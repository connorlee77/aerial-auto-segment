{
 "cells": [
  {
   "cell_type": "code",
   "execution_count": 1,
   "metadata": {},
   "outputs": [],
   "source": [
    "import numpy as np\n",
    "import pandas as pd\n",
    "import glob\n",
    "import os\n",
    "import tqdm"
   ]
  },
  {
   "cell_type": "code",
   "execution_count": 2,
   "metadata": {},
   "outputs": [],
   "source": [
    "def cm_to_iou(cm):\n",
    "    tps = np.diag(cm)\n",
    "    fps = cm.sum(axis=0) - tps\n",
    "    fns = cm.sum(axis=1) - tps\n",
    "    iou = tps / (tps + fps + fns)\n",
    "    # iou = np.nan_to_num(iou)\n",
    "    iou = iou[~np.isnan(iou)]\n",
    "    return iou.squeeze()\n",
    "\n",
    "def cm_to_miou(cm):\n",
    "    iou = cm_to_iou(cm)\n",
    "    return iou.mean()\n",
    "\n",
    "def read_metrics(metrics_path):\n",
    "    with open(metrics_path, 'r') as f:\n",
    "        lines = f.readlines()\n",
    "        miou = float(lines[-1].split(':')[-1].strip())\n",
    "    return miou\n",
    "\n",
    "def add2dict(metrics_dict, label_set, seg_method, lulc_type, d3_type, res, refine_type, dataset, trajectory, cm, miou):\n",
    "    metrics_dict['dataset'].append(dataset)\n",
    "    metrics_dict['trajectory'].append(trajectory)\n",
    "    metrics_dict['label_set'].append(label_set)\n",
    "    metrics_dict['seg_method'].append(seg_method)\n",
    "    metrics_dict['lulc_type'].append(lulc_type)\n",
    "    metrics_dict['d3_type'].append(d3_type)\n",
    "    metrics_dict['res'].append(res)\n",
    "    metrics_dict['refine_type'].append(refine_type)\n",
    "    metrics_dict['cm'].append(cm)\n",
    "    # metrics_dict['iou'].append(iou)\n",
    "    metrics_dict['miou'].append(miou)"
   ]
  },
  {
   "cell_type": "code",
   "execution_count": 3,
   "metadata": {},
   "outputs": [],
   "source": [
    "common_idx2names = {\n",
    "    0 : 'water',\n",
    "    1 : 'trees',\n",
    "    2 : 'low_vegetation',\n",
    "    3 : 'built',\n",
    "    4 : 'ground',\n",
    "    5 : 'sky',\n",
    "}\n",
    "\n",
    "more_common_idx2names = {\n",
    "    0 : 'water',\n",
    "    1 : 'vegetation',\n",
    "    2 : 'built',\n",
    "    3 : 'ground',\n",
    "    4 : 'sky',\n",
    "}\n",
    "\n",
    "most_common_idx2names = {\n",
    "    0 : 'water',\n",
    "    1 : 'ground',\n",
    "    2 : 'sky',\n",
    "}"
   ]
  },
  {
   "cell_type": "code",
   "execution_count": 4,
   "metadata": {},
   "outputs": [],
   "source": [
    "cm_paths = glob.glob('./outputs_v2/*/*/*/*/*/*/*/*/confusion_matrix.npy')"
   ]
  },
  {
   "cell_type": "code",
   "execution_count": 5,
   "metadata": {},
   "outputs": [
    {
     "name": "stderr",
     "output_type": "stream",
     "text": [
      "  0%|          | 0/620 [00:00<?, ?it/s]/tmp/ipykernel_1596798/257437282.py:5: RuntimeWarning: invalid value encountered in divide\n",
      "  iou = tps / (tps + fps + fns)\n",
      "100%|██████████| 620/620 [00:00<00:00, 6071.35it/s]\n"
     ]
    }
   ],
   "source": [
    "metrics_dict = {\n",
    "    'dataset' : [],\n",
    "    'trajectory' : [],\n",
    "    'label_set' : [],\n",
    "    'seg_method' : [],\n",
    "    'lulc_type' : [],\n",
    "    'd3_type' : [],\n",
    "    'res' : [],\n",
    "    'refine_type' : [],\n",
    "    'cm' : [],\n",
    "    # 'iou' : [],\n",
    "    'miou' : [],\n",
    "}\n",
    "\n",
    "for cm_filepath in tqdm.tqdm(cm_paths):\n",
    "    iou_path = cm_filepath.replace('confusion_matrix.npy', 'metrics.txt')\n",
    "    miou = read_metrics(iou_path)\n",
    "    label_set, seg_method, lulc_type, d3_type, res, refine_type, dataset, trajectory = cm_filepath.split(os.path.sep)[-9:-1]\n",
    "    cm = np.load(cm_filepath)\n",
    "    iou = cm_to_iou(cm)\n",
    "    miou = iou.mean()\n",
    "    add2dict(metrics_dict, label_set, seg_method, lulc_type, d3_type, res, refine_type, dataset, trajectory, cm, miou)\n",
    "    \n",
    "    # Colorado has no DSM. Use dem 1m instead.\n",
    "    # Lets us compare dem vs dsm\n",
    "    if dataset == '2022-05-15_ColoradoRiver' and d3_type == 'dem':\n",
    "        add2dict(metrics_dict, label_set, seg_method, lulc_type, 'dsm', res, refine_type, dataset, trajectory, cm, miou)\n",
    "\n",
    "    # Lets us compare dem vs dem_1m\n",
    "    if dataset == '2023-03-XX_Duck' and d3_type == 'dem':\n",
    "        add2dict(metrics_dict, label_set, seg_method, lulc_type, 'dem_1m', res, refine_type, dataset, trajectory, cm, miou)\n",
    "\n",
    "    \n"
   ]
  },
  {
   "cell_type": "code",
   "execution_count": 6,
   "metadata": {},
   "outputs": [],
   "source": [
    "df = pd.DataFrame.from_dict(metrics_dict)"
   ]
  },
  {
   "cell_type": "code",
   "execution_count": 7,
   "metadata": {},
   "outputs": [],
   "source": [
    "unique_ids = ['label_set', 'seg_method', 'lulc_type', 'd3_type', 'res', 'refine_type']\n",
    "grouped_df = df.groupby(unique_ids)"
   ]
  },
  {
   "cell_type": "code",
   "execution_count": 8,
   "metadata": {},
   "outputs": [
    {
     "name": "stderr",
     "output_type": "stream",
     "text": [
      "/tmp/ipykernel_1596798/257437282.py:5: RuntimeWarning: invalid value encountered in divide\n",
      "  iou = tps / (tps + fps + fns)\n"
     ]
    }
   ],
   "source": [
    "counts = grouped_df['miou'].transform('count')\n",
    "cm_sum = grouped_df['cm'].transform('sum')\n",
    "trajectory_avg_miou = grouped_df['miou'].transform('mean')\n",
    "\n",
    "df['trajectory_count'] = counts\n",
    "df['cm_sum'] = cm_sum\n",
    "df['trajectory_avg_miou'] = trajectory_avg_miou\n",
    "df['miou (total)'] = df.apply(lambda x: cm_to_miou(x['cm_sum']), axis=1)\n"
   ]
  },
  {
   "cell_type": "code",
   "execution_count": 12,
   "metadata": {},
   "outputs": [
    {
     "data": {
      "text/html": [
       "<div>\n",
       "<style scoped>\n",
       "    .dataframe tbody tr th:only-of-type {\n",
       "        vertical-align: middle;\n",
       "    }\n",
       "\n",
       "    .dataframe tbody tr th {\n",
       "        vertical-align: top;\n",
       "    }\n",
       "\n",
       "    .dataframe thead th {\n",
       "        text-align: right;\n",
       "    }\n",
       "</style>\n",
       "<table border=\"1\" class=\"dataframe\">\n",
       "  <thead>\n",
       "    <tr style=\"text-align: right;\">\n",
       "      <th></th>\n",
       "      <th>dataset</th>\n",
       "      <th>trajectory</th>\n",
       "      <th>miou</th>\n",
       "      <th>miou (total)</th>\n",
       "    </tr>\n",
       "  </thead>\n",
       "  <tbody>\n",
       "    <tr>\n",
       "      <th>124</th>\n",
       "      <td>2023-03-XX_Duck</td>\n",
       "      <td>ONR_2023-03-21-09-59-39</td>\n",
       "      <td>0.715223</td>\n",
       "      <td>0.87645</td>\n",
       "    </tr>\n",
       "    <tr>\n",
       "      <th>126</th>\n",
       "      <td>2023-03-XX_Duck</td>\n",
       "      <td>ONR_2023-03-21-14-06-04</td>\n",
       "      <td>0.960929</td>\n",
       "      <td>0.87645</td>\n",
       "    </tr>\n",
       "    <tr>\n",
       "      <th>128</th>\n",
       "      <td>2023-03-XX_Duck</td>\n",
       "      <td>ONR_2023-03-21-19-55-11</td>\n",
       "      <td>0.908280</td>\n",
       "      <td>0.87645</td>\n",
       "    </tr>\n",
       "    <tr>\n",
       "      <th>130</th>\n",
       "      <td>2023-03-XX_Duck</td>\n",
       "      <td>ONR_2023-03-22-14-41-46</td>\n",
       "      <td>0.866337</td>\n",
       "      <td>0.87645</td>\n",
       "    </tr>\n",
       "    <tr>\n",
       "      <th>132</th>\n",
       "      <td>2022-05-15_ColoradoRiver</td>\n",
       "      <td>flight4</td>\n",
       "      <td>0.848590</td>\n",
       "      <td>0.87645</td>\n",
       "    </tr>\n",
       "    <tr>\n",
       "      <th>134</th>\n",
       "      <td>2022-05-15_ColoradoRiver</td>\n",
       "      <td>flight3</td>\n",
       "      <td>0.944690</td>\n",
       "      <td>0.87645</td>\n",
       "    </tr>\n",
       "    <tr>\n",
       "      <th>136</th>\n",
       "      <td>2022-05-15_ColoradoRiver</td>\n",
       "      <td>flight2</td>\n",
       "      <td>0.913996</td>\n",
       "      <td>0.87645</td>\n",
       "    </tr>\n",
       "    <tr>\n",
       "      <th>138</th>\n",
       "      <td>2021-09-09-KentuckyRiver</td>\n",
       "      <td>flight3-1</td>\n",
       "      <td>0.802536</td>\n",
       "      <td>0.87645</td>\n",
       "    </tr>\n",
       "    <tr>\n",
       "      <th>139</th>\n",
       "      <td>2021-09-09-KentuckyRiver</td>\n",
       "      <td>flight1-1</td>\n",
       "      <td>0.854024</td>\n",
       "      <td>0.87645</td>\n",
       "    </tr>\n",
       "    <tr>\n",
       "      <th>140</th>\n",
       "      <td>2021-09-09-KentuckyRiver</td>\n",
       "      <td>flight2-1</td>\n",
       "      <td>0.829736</td>\n",
       "      <td>0.87645</td>\n",
       "    </tr>\n",
       "    <tr>\n",
       "      <th>141</th>\n",
       "      <td>2022-12-20_Castaic_Lake</td>\n",
       "      <td>flight4</td>\n",
       "      <td>0.812039</td>\n",
       "      <td>0.87645</td>\n",
       "    </tr>\n",
       "  </tbody>\n",
       "</table>\n",
       "</div>"
      ],
      "text/plain": [
       "                      dataset               trajectory      miou  miou (total)\n",
       "124           2023-03-XX_Duck  ONR_2023-03-21-09-59-39  0.715223       0.87645\n",
       "126           2023-03-XX_Duck  ONR_2023-03-21-14-06-04  0.960929       0.87645\n",
       "128           2023-03-XX_Duck  ONR_2023-03-21-19-55-11  0.908280       0.87645\n",
       "130           2023-03-XX_Duck  ONR_2023-03-22-14-41-46  0.866337       0.87645\n",
       "132  2022-05-15_ColoradoRiver                  flight4  0.848590       0.87645\n",
       "134  2022-05-15_ColoradoRiver                  flight3  0.944690       0.87645\n",
       "136  2022-05-15_ColoradoRiver                  flight2  0.913996       0.87645\n",
       "138  2021-09-09-KentuckyRiver                flight3-1  0.802536       0.87645\n",
       "139  2021-09-09-KentuckyRiver                flight1-1  0.854024       0.87645\n",
       "140  2021-09-09-KentuckyRiver                flight2-1  0.829736       0.87645\n",
       "141   2022-12-20_Castaic_Lake                  flight4  0.812039       0.87645"
      ]
     },
     "execution_count": 12,
     "metadata": {},
     "output_type": "execute_result"
    }
   ],
   "source": [
    "filter_cond = (\n",
    "    (df['seg_method'] == 'open_sam_boxnms_0p50') & \n",
    "    (df['d3_type'] == 'dem') &\n",
    "    (df['res'] == '1.0') &\n",
    "    (df['lulc_type'] == 'dynamicworld') & \n",
    "    (df['refine_type'] == 'none') & \n",
    "    (df['label_set'] == 'most_common')\n",
    ")\n",
    "\n",
    "df[filter_cond][['dataset', 'trajectory', 'miou', 'miou (total)']]"
   ]
  },
  {
   "cell_type": "code",
   "execution_count": 196,
   "metadata": {},
   "outputs": [
    {
     "data": {
      "text/html": [
       "<div>\n",
       "<style scoped>\n",
       "    .dataframe tbody tr th:only-of-type {\n",
       "        vertical-align: middle;\n",
       "    }\n",
       "\n",
       "    .dataframe tbody tr th {\n",
       "        vertical-align: top;\n",
       "    }\n",
       "\n",
       "    .dataframe thead th {\n",
       "        text-align: right;\n",
       "    }\n",
       "</style>\n",
       "<table border=\"1\" class=\"dataframe\">\n",
       "  <thead>\n",
       "    <tr style=\"text-align: right;\">\n",
       "      <th></th>\n",
       "      <th>label_set</th>\n",
       "      <th>seg_method</th>\n",
       "      <th>lulc_type</th>\n",
       "      <th>d3_type</th>\n",
       "      <th>res</th>\n",
       "      <th>refine_type</th>\n",
       "      <th>trajectory_count</th>\n",
       "      <th>trajectory_avg_miou</th>\n",
       "      <th>miou (total)</th>\n",
       "    </tr>\n",
       "  </thead>\n",
       "  <tbody>\n",
       "    <tr>\n",
       "      <th>0</th>\n",
       "      <td>most_common</td>\n",
       "      <td>open_sam_boxnms_0p50</td>\n",
       "      <td>open_earth_map_unet_lc_naip_corrected</td>\n",
       "      <td>dsm</td>\n",
       "      <td>1.0</td>\n",
       "      <td>none</td>\n",
       "      <td>11</td>\n",
       "      <td>0.831408</td>\n",
       "      <td>0.835308</td>\n",
       "    </tr>\n",
       "    <tr>\n",
       "      <th>1</th>\n",
       "      <td>most_common</td>\n",
       "      <td>open_sam_boxnms_0p50</td>\n",
       "      <td>open_earth_map_unet_lc_naip_corrected</td>\n",
       "      <td>dsm</td>\n",
       "      <td>1.0</td>\n",
       "      <td>none</td>\n",
       "      <td>11</td>\n",
       "      <td>0.831408</td>\n",
       "      <td>0.835308</td>\n",
       "    </tr>\n",
       "    <tr>\n",
       "      <th>2</th>\n",
       "      <td>most_common</td>\n",
       "      <td>open_sam_boxnms_0p50</td>\n",
       "      <td>open_earth_map_unet_lc_naip_corrected</td>\n",
       "      <td>dsm</td>\n",
       "      <td>1.0</td>\n",
       "      <td>none</td>\n",
       "      <td>11</td>\n",
       "      <td>0.831408</td>\n",
       "      <td>0.835308</td>\n",
       "    </tr>\n",
       "    <tr>\n",
       "      <th>3</th>\n",
       "      <td>most_common</td>\n",
       "      <td>open_sam_boxnms_0p50</td>\n",
       "      <td>open_earth_map_unet_lc_naip_corrected</td>\n",
       "      <td>dsm</td>\n",
       "      <td>1.0</td>\n",
       "      <td>none</td>\n",
       "      <td>11</td>\n",
       "      <td>0.831408</td>\n",
       "      <td>0.835308</td>\n",
       "    </tr>\n",
       "    <tr>\n",
       "      <th>4</th>\n",
       "      <td>most_common</td>\n",
       "      <td>open_sam_boxnms_0p50</td>\n",
       "      <td>open_earth_map_unet_lc_naip_corrected</td>\n",
       "      <td>dsm</td>\n",
       "      <td>1.0</td>\n",
       "      <td>none</td>\n",
       "      <td>11</td>\n",
       "      <td>0.831408</td>\n",
       "      <td>0.835308</td>\n",
       "    </tr>\n",
       "    <tr>\n",
       "      <th>...</th>\n",
       "      <td>...</td>\n",
       "      <td>...</td>\n",
       "      <td>...</td>\n",
       "      <td>...</td>\n",
       "      <td>...</td>\n",
       "      <td>...</td>\n",
       "      <td>...</td>\n",
       "      <td>...</td>\n",
       "      <td>...</td>\n",
       "    </tr>\n",
       "    <tr>\n",
       "      <th>888</th>\n",
       "      <td>common</td>\n",
       "      <td>open_sam_boxnms_0p50</td>\n",
       "      <td>dynamicworld</td>\n",
       "      <td>dem_1m</td>\n",
       "      <td>1.0</td>\n",
       "      <td>none</td>\n",
       "      <td>11</td>\n",
       "      <td>0.441318</td>\n",
       "      <td>0.568481</td>\n",
       "    </tr>\n",
       "    <tr>\n",
       "      <th>889</th>\n",
       "      <td>common</td>\n",
       "      <td>open_sam_boxnms_0p50</td>\n",
       "      <td>dynamicworld</td>\n",
       "      <td>dem_1m</td>\n",
       "      <td>1.0</td>\n",
       "      <td>none</td>\n",
       "      <td>11</td>\n",
       "      <td>0.441318</td>\n",
       "      <td>0.568481</td>\n",
       "    </tr>\n",
       "    <tr>\n",
       "      <th>890</th>\n",
       "      <td>common</td>\n",
       "      <td>open_sam_boxnms_0p50</td>\n",
       "      <td>dynamicworld</td>\n",
       "      <td>dem_1m</td>\n",
       "      <td>1.0</td>\n",
       "      <td>none</td>\n",
       "      <td>11</td>\n",
       "      <td>0.441318</td>\n",
       "      <td>0.568481</td>\n",
       "    </tr>\n",
       "    <tr>\n",
       "      <th>891</th>\n",
       "      <td>common</td>\n",
       "      <td>open_sam_boxnms_0p50</td>\n",
       "      <td>dynamicworld</td>\n",
       "      <td>dem_1m</td>\n",
       "      <td>1.0</td>\n",
       "      <td>none</td>\n",
       "      <td>11</td>\n",
       "      <td>0.441318</td>\n",
       "      <td>0.568481</td>\n",
       "    </tr>\n",
       "    <tr>\n",
       "      <th>892</th>\n",
       "      <td>common</td>\n",
       "      <td>open_sam_boxnms_0p50</td>\n",
       "      <td>dynamicworld</td>\n",
       "      <td>dem_1m</td>\n",
       "      <td>1.0</td>\n",
       "      <td>none</td>\n",
       "      <td>11</td>\n",
       "      <td>0.441318</td>\n",
       "      <td>0.568481</td>\n",
       "    </tr>\n",
       "  </tbody>\n",
       "</table>\n",
       "<p>893 rows × 9 columns</p>\n",
       "</div>"
      ],
      "text/plain": [
       "       label_set            seg_method                              lulc_type   \n",
       "0    most_common  open_sam_boxnms_0p50  open_earth_map_unet_lc_naip_corrected  \\\n",
       "1    most_common  open_sam_boxnms_0p50  open_earth_map_unet_lc_naip_corrected   \n",
       "2    most_common  open_sam_boxnms_0p50  open_earth_map_unet_lc_naip_corrected   \n",
       "3    most_common  open_sam_boxnms_0p50  open_earth_map_unet_lc_naip_corrected   \n",
       "4    most_common  open_sam_boxnms_0p50  open_earth_map_unet_lc_naip_corrected   \n",
       "..           ...                   ...                                    ...   \n",
       "888       common  open_sam_boxnms_0p50                           dynamicworld   \n",
       "889       common  open_sam_boxnms_0p50                           dynamicworld   \n",
       "890       common  open_sam_boxnms_0p50                           dynamicworld   \n",
       "891       common  open_sam_boxnms_0p50                           dynamicworld   \n",
       "892       common  open_sam_boxnms_0p50                           dynamicworld   \n",
       "\n",
       "    d3_type  res refine_type  trajectory_count  trajectory_avg_miou   \n",
       "0       dsm  1.0        none                11             0.831408  \\\n",
       "1       dsm  1.0        none                11             0.831408   \n",
       "2       dsm  1.0        none                11             0.831408   \n",
       "3       dsm  1.0        none                11             0.831408   \n",
       "4       dsm  1.0        none                11             0.831408   \n",
       "..      ...  ...         ...               ...                  ...   \n",
       "888  dem_1m  1.0        none                11             0.441318   \n",
       "889  dem_1m  1.0        none                11             0.441318   \n",
       "890  dem_1m  1.0        none                11             0.441318   \n",
       "891  dem_1m  1.0        none                11             0.441318   \n",
       "892  dem_1m  1.0        none                11             0.441318   \n",
       "\n",
       "     miou (total)  \n",
       "0        0.835308  \n",
       "1        0.835308  \n",
       "2        0.835308  \n",
       "3        0.835308  \n",
       "4        0.835308  \n",
       "..            ...  \n",
       "888      0.568481  \n",
       "889      0.568481  \n",
       "890      0.568481  \n",
       "891      0.568481  \n",
       "892      0.568481  \n",
       "\n",
       "[893 rows x 9 columns]"
      ]
     },
     "execution_count": 196,
     "metadata": {},
     "output_type": "execute_result"
    }
   ],
   "source": [
    "# df_agg = df.groupby(['label_set', 'seg_method', 'lulc_type', 'd3_type', 'res', 'refine_type']).reset_index()\n",
    "df_agg_ds_stats = df.drop(columns=['dataset', 'trajectory', 'cm', 'cm_sum', 'miou'])\n",
    "df_agg_ds_stats"
   ]
  },
  {
   "cell_type": "code",
   "execution_count": 197,
   "metadata": {},
   "outputs": [],
   "source": [
    "df_agg_ds_stats.drop_duplicates(inplace=True)"
   ]
  },
  {
   "cell_type": "code",
   "execution_count": 198,
   "metadata": {},
   "outputs": [
    {
     "name": "stdout",
     "output_type": "stream",
     "text": [
      "trajectory_avg_miou    0.609141\n",
      "miou (total)           0.675154\n",
      "dtype: float64\n"
     ]
    },
    {
     "data": {
      "text/html": [
       "<div>\n",
       "<style scoped>\n",
       "    .dataframe tbody tr th:only-of-type {\n",
       "        vertical-align: middle;\n",
       "    }\n",
       "\n",
       "    .dataframe tbody tr th {\n",
       "        vertical-align: top;\n",
       "    }\n",
       "\n",
       "    .dataframe thead th {\n",
       "        text-align: right;\n",
       "    }\n",
       "</style>\n",
       "<table border=\"1\" class=\"dataframe\">\n",
       "  <thead>\n",
       "    <tr style=\"text-align: right;\">\n",
       "      <th></th>\n",
       "      <th>label_set</th>\n",
       "      <th>seg_method</th>\n",
       "      <th>lulc_type</th>\n",
       "      <th>d3_type</th>\n",
       "      <th>res</th>\n",
       "      <th>refine_type</th>\n",
       "      <th>trajectory_count</th>\n",
       "      <th>trajectory_avg_miou</th>\n",
       "      <th>miou (total)</th>\n",
       "    </tr>\n",
       "  </thead>\n",
       "  <tbody>\n",
       "    <tr>\n",
       "      <th>124</th>\n",
       "      <td>most_common</td>\n",
       "      <td>open_sam_boxnms_0p50</td>\n",
       "      <td>dynamicworld</td>\n",
       "      <td>dem</td>\n",
       "      <td>1.0</td>\n",
       "      <td>none</td>\n",
       "      <td>11</td>\n",
       "      <td>0.859671</td>\n",
       "      <td>0.876450</td>\n",
       "    </tr>\n",
       "    <tr>\n",
       "      <th>424</th>\n",
       "      <td>more_common</td>\n",
       "      <td>open_sam_boxnms_0p50</td>\n",
       "      <td>dynamicworld</td>\n",
       "      <td>dem</td>\n",
       "      <td>1.0</td>\n",
       "      <td>none</td>\n",
       "      <td>11</td>\n",
       "      <td>0.517656</td>\n",
       "      <td>0.571940</td>\n",
       "    </tr>\n",
       "    <tr>\n",
       "      <th>724</th>\n",
       "      <td>common</td>\n",
       "      <td>open_sam_boxnms_0p50</td>\n",
       "      <td>dynamicworld</td>\n",
       "      <td>dem</td>\n",
       "      <td>1.0</td>\n",
       "      <td>none</td>\n",
       "      <td>11</td>\n",
       "      <td>0.450098</td>\n",
       "      <td>0.577074</td>\n",
       "    </tr>\n",
       "  </tbody>\n",
       "</table>\n",
       "</div>"
      ],
      "text/plain": [
       "       label_set            seg_method     lulc_type d3_type  res refine_type   \n",
       "124  most_common  open_sam_boxnms_0p50  dynamicworld     dem  1.0        none  \\\n",
       "424  more_common  open_sam_boxnms_0p50  dynamicworld     dem  1.0        none   \n",
       "724       common  open_sam_boxnms_0p50  dynamicworld     dem  1.0        none   \n",
       "\n",
       "     trajectory_count  trajectory_avg_miou  miou (total)  \n",
       "124                11             0.859671      0.876450  \n",
       "424                11             0.517656      0.571940  \n",
       "724                11             0.450098      0.577074  "
      ]
     },
     "execution_count": 198,
     "metadata": {},
     "output_type": "execute_result"
    }
   ],
   "source": [
    "filter_cond = (\n",
    "    (df_agg_ds_stats['seg_method'] == 'open_sam_boxnms_0p50') & \n",
    "    (df_agg_ds_stats['d3_type'] == 'dem') &\n",
    "    (df_agg_ds_stats['res'] == '1.0') &\n",
    "    (df_agg_ds_stats['lulc_type'] == 'dynamicworld') & \n",
    "    (df_agg_ds_stats['refine_type'] == 'none')\n",
    ")\n",
    "\n",
    "print(df_agg_ds_stats[filter_cond][['trajectory_avg_miou', 'miou (total)']].mean())\n",
    "df_agg_ds_stats[filter_cond]\n"
   ]
  },
  {
   "cell_type": "code",
   "execution_count": 199,
   "metadata": {},
   "outputs": [
    {
     "name": "stdout",
     "output_type": "stream",
     "text": [
      "\\begin{tabular}{lrrr}\n",
      "\\toprule\n",
      "label_set & common & more_common & most_common \\\\\n",
      "\\midrule\n",
      "trajectory_avg_miou & 0.450 & 0.518 & 0.860 \\\\\n",
      "miou (total) & 0.577 & 0.572 & 0.876 \\\\\n",
      "\\bottomrule\n",
      "\\end{tabular}\n",
      "\n"
     ]
    }
   ],
   "source": [
    "print(df_agg_ds_stats[filter_cond][['label_set', 'trajectory_avg_miou', 'miou (total)']].set_index('label_set').T[['common', 'more_common', 'most_common']].to_latex(float_format='{:.3f}'.format))"
   ]
  },
  {
   "cell_type": "code",
   "execution_count": 200,
   "metadata": {},
   "outputs": [
    {
     "data": {
      "text/plain": [
       "array(['open_earth_map_unet_lc_naip_corrected',\n",
       "       'open_earth_map_unet_lc_planet',\n",
       "       'chesapeake_bay_swin_crossentropy_lc_naip_corrected',\n",
       "       'chesapeake_bay_swin_crossentropy_lc_planet', 'dynamicworld'],\n",
       "      dtype=object)"
      ]
     },
     "execution_count": 200,
     "metadata": {},
     "output_type": "execute_result"
    }
   ],
   "source": [
    "df_agg_ds_stats['lulc_type'].unique()"
   ]
  },
  {
   "cell_type": "code",
   "execution_count": 201,
   "metadata": {},
   "outputs": [],
   "source": [
    "filter_cond = (\n",
    "    (df_agg_ds_stats['seg_method'] == 'open_sam_boxnms_0p50') & \n",
    "    (df_agg_ds_stats['d3_type'] == 'dem') &\n",
    "    # (df_agg_ds_stats['res'] == '1.0') &\n",
    "    (df_agg_ds_stats['lulc_type'] == 'dynamicworld')\n",
    "    # (df_agg_ds_stats['refine_type'] == 'none')\n",
    ")\n",
    "\n",
    "space_df = df_agg_ds_stats[filter_cond].copy()\n",
    "# space_df.drop(columns=['seg_method', 'd3_type', 'lulc_type', 'miou (total)', 'trajectory_count'], inplace=True)\n",
    "space_df['label_set'].str.strip()\n",
    "space_df['res'] = space_df.apply(lambda x: float(x['res']), axis=1)\n",
    "space_df.sort_values(by=['res'], inplace=True)\n",
    "space_df['res'] = space_df.apply(lambda x: '{}m'.format(int(x['res'])), axis=1)\n",
    "\n",
    "# pivoted_df = space_df.pivot(index=['res', 'refine_type'], columns='label_set', values='trajectory_avg_miou').reset_index()"
   ]
  },
  {
   "cell_type": "code",
   "execution_count": 202,
   "metadata": {},
   "outputs": [
    {
     "data": {
      "application/vnd.plotly.v1+json": {
       "config": {
        "plotlyServerURL": "https://plot.ly"
       },
       "data": [
        {
         "hovertemplate": "refine_type=none<br>label_set=common<br>res=%{x}<br>trajectory_avg_miou=%{y}<extra></extra>",
         "legendgroup": "none",
         "line": {
          "color": "#2E5C80",
          "dash": "dash"
         },
         "marker": {
          "symbol": "x"
         },
         "mode": "markers+lines",
         "name": "none",
         "orientation": "v",
         "showlegend": true,
         "type": "scatter",
         "x": [
          "1m",
          "5m",
          "10m"
         ],
         "xaxis": "x",
         "y": [
          0.450097583107204,
          0.45123312069632054,
          0.4503002817602658
         ],
         "yaxis": "y"
        },
        {
         "hovertemplate": "refine_type=none<br>label_set=more_common<br>res=%{x}<br>trajectory_avg_miou=%{y}<extra></extra>",
         "legendgroup": "none",
         "line": {
          "color": "#2E5C80",
          "dash": "dash"
         },
         "marker": {
          "symbol": "x"
         },
         "mode": "markers+lines",
         "name": "none",
         "orientation": "v",
         "showlegend": false,
         "type": "scatter",
         "x": [
          "1m",
          "5m",
          "10m"
         ],
         "xaxis": "x2",
         "y": [
          0.5176557590209847,
          0.5191710777151783,
          0.5180415213094332
         ],
         "yaxis": "y2"
        },
        {
         "hovertemplate": "refine_type=none<br>label_set=most_common<br>res=%{x}<br>trajectory_avg_miou=%{y}<extra></extra>",
         "legendgroup": "none",
         "line": {
          "color": "#2E5C80",
          "dash": "dash"
         },
         "marker": {
          "symbol": "x"
         },
         "mode": "markers+lines",
         "name": "none",
         "orientation": "v",
         "showlegend": false,
         "type": "scatter",
         "x": [
          "1m",
          "5m",
          "10m"
         ],
         "xaxis": "x3",
         "y": [
          0.8596709650192885,
          0.8591226025182901,
          0.8586223490715781
         ],
         "yaxis": "y3"
        },
        {
         "hovertemplate": "refine_type=crf_planet<br>label_set=common<br>res=%{x}<br>trajectory_avg_miou=%{y}<extra></extra>",
         "legendgroup": "crf_planet",
         "line": {
          "color": "#0091FF",
          "dash": "dot"
         },
         "marker": {
          "symbol": "x"
         },
         "mode": "markers+lines",
         "name": "crf_planet",
         "orientation": "v",
         "showlegend": true,
         "type": "scatter",
         "x": [
          "1m",
          "5m",
          "10m"
         ],
         "xaxis": "x",
         "y": [
          0.45496293056200243,
          0.41886489813192807,
          0.430104969127848
         ],
         "yaxis": "y"
        },
        {
         "hovertemplate": "refine_type=crf_planet<br>label_set=more_common<br>res=%{x}<br>trajectory_avg_miou=%{y}<extra></extra>",
         "legendgroup": "crf_planet",
         "line": {
          "color": "#0091FF",
          "dash": "dot"
         },
         "marker": {
          "symbol": "x"
         },
         "mode": "markers+lines",
         "name": "crf_planet",
         "orientation": "v",
         "showlegend": false,
         "type": "scatter",
         "x": [
          "1m",
          "5m",
          "10m"
         ],
         "xaxis": "x2",
         "y": [
          0.5104782616064285,
          0.47795569295426926,
          0.479938080897159
         ],
         "yaxis": "y2"
        },
        {
         "hovertemplate": "refine_type=crf_planet<br>label_set=most_common<br>res=%{x}<br>trajectory_avg_miou=%{y}<extra></extra>",
         "legendgroup": "crf_planet",
         "line": {
          "color": "#0091FF",
          "dash": "dot"
         },
         "marker": {
          "symbol": "x"
         },
         "mode": "markers+lines",
         "name": "crf_planet",
         "orientation": "v",
         "showlegend": false,
         "type": "scatter",
         "x": [
          "1m",
          "5m",
          "10m"
         ],
         "xaxis": "x3",
         "y": [
          0.8695149512816496,
          0.8699194743493229,
          0.8626152242016212
         ],
         "yaxis": "y3"
        },
        {
         "hovertemplate": "refine_type=crf_naip_naip-nir<br>label_set=common<br>res=%{x}<br>trajectory_avg_miou=%{y}<extra></extra>",
         "legendgroup": "crf_naip_naip-nir",
         "line": {
          "color": "#FF7912",
          "dash": "solid"
         },
         "marker": {
          "symbol": "x"
         },
         "mode": "markers+lines",
         "name": "crf_naip_naip-nir",
         "orientation": "v",
         "showlegend": true,
         "type": "scatter",
         "x": [
          "1m",
          "5m",
          "10m"
         ],
         "xaxis": "x",
         "y": [
          0.44090194048530956,
          0.3995718844229328,
          0.37465319613313325
         ],
         "yaxis": "y"
        },
        {
         "hovertemplate": "refine_type=crf_naip_naip-nir<br>label_set=more_common<br>res=%{x}<br>trajectory_avg_miou=%{y}<extra></extra>",
         "legendgroup": "crf_naip_naip-nir",
         "line": {
          "color": "#FF7912",
          "dash": "solid"
         },
         "marker": {
          "symbol": "x"
         },
         "mode": "markers+lines",
         "name": "crf_naip_naip-nir",
         "orientation": "v",
         "showlegend": false,
         "type": "scatter",
         "x": [
          "1m",
          "5m",
          "10m"
         ],
         "xaxis": "x2",
         "y": [
          0.5041445311007519,
          0.45364031327111076,
          0.43337101096707076
         ],
         "yaxis": "y2"
        },
        {
         "hovertemplate": "refine_type=crf_naip_naip-nir<br>label_set=most_common<br>res=%{x}<br>trajectory_avg_miou=%{y}<extra></extra>",
         "legendgroup": "crf_naip_naip-nir",
         "line": {
          "color": "#FF7912",
          "dash": "solid"
         },
         "marker": {
          "symbol": "x"
         },
         "mode": "markers+lines",
         "name": "crf_naip_naip-nir",
         "orientation": "v",
         "showlegend": false,
         "type": "scatter",
         "x": [
          "1m",
          "5m",
          "10m"
         ],
         "xaxis": "x3",
         "y": [
          0.8648654122601436,
          0.8479680089136135,
          0.8099014314281341
         ],
         "yaxis": "y3"
        }
       ],
       "layout": {
        "annotations": [
         {
          "font": {},
          "showarrow": false,
          "text": "",
          "x": 0.14166666666666666,
          "xanchor": "center",
          "xref": "paper",
          "y": 1,
          "yanchor": "bottom",
          "yref": "paper"
         },
         {
          "font": {},
          "showarrow": false,
          "text": "",
          "x": 0.5,
          "xanchor": "center",
          "xref": "paper",
          "y": 1,
          "yanchor": "bottom",
          "yref": "paper"
         },
         {
          "font": {},
          "showarrow": false,
          "text": "",
          "x": 0.8583333333333334,
          "xanchor": "center",
          "xref": "paper",
          "y": 1,
          "yanchor": "bottom",
          "yref": "paper"
         }
        ],
        "font": {
         "size": 16
        },
        "height": 200,
        "legend": {
         "orientation": "h",
         "title": {
          "text": "refine_type"
         },
         "tracegroupgap": 0,
         "x": 1,
         "xanchor": "right",
         "y": -0.1,
         "yanchor": "top"
        },
        "margin": {
         "b": 0,
         "l": 30,
         "r": 20,
         "t": 0
        },
        "showlegend": false,
        "template": {
         "data": {
          "bar": [
           {
            "error_x": {
             "color": "rgb(36,36,36)"
            },
            "error_y": {
             "color": "rgb(36,36,36)"
            },
            "marker": {
             "line": {
              "color": "white",
              "width": 0.5
             },
             "pattern": {
              "fillmode": "overlay",
              "size": 10,
              "solidity": 0.2
             }
            },
            "type": "bar"
           }
          ],
          "barpolar": [
           {
            "marker": {
             "line": {
              "color": "white",
              "width": 0.5
             },
             "pattern": {
              "fillmode": "overlay",
              "size": 10,
              "solidity": 0.2
             }
            },
            "type": "barpolar"
           }
          ],
          "carpet": [
           {
            "aaxis": {
             "endlinecolor": "rgb(36,36,36)",
             "gridcolor": "white",
             "linecolor": "white",
             "minorgridcolor": "white",
             "startlinecolor": "rgb(36,36,36)"
            },
            "baxis": {
             "endlinecolor": "rgb(36,36,36)",
             "gridcolor": "white",
             "linecolor": "white",
             "minorgridcolor": "white",
             "startlinecolor": "rgb(36,36,36)"
            },
            "type": "carpet"
           }
          ],
          "choropleth": [
           {
            "colorbar": {
             "outlinewidth": 1,
             "tickcolor": "rgb(36,36,36)",
             "ticks": "outside"
            },
            "type": "choropleth"
           }
          ],
          "contour": [
           {
            "colorbar": {
             "outlinewidth": 1,
             "tickcolor": "rgb(36,36,36)",
             "ticks": "outside"
            },
            "colorscale": [
             [
              0,
              "#440154"
             ],
             [
              0.1111111111111111,
              "#482878"
             ],
             [
              0.2222222222222222,
              "#3e4989"
             ],
             [
              0.3333333333333333,
              "#31688e"
             ],
             [
              0.4444444444444444,
              "#26828e"
             ],
             [
              0.5555555555555556,
              "#1f9e89"
             ],
             [
              0.6666666666666666,
              "#35b779"
             ],
             [
              0.7777777777777778,
              "#6ece58"
             ],
             [
              0.8888888888888888,
              "#b5de2b"
             ],
             [
              1,
              "#fde725"
             ]
            ],
            "type": "contour"
           }
          ],
          "contourcarpet": [
           {
            "colorbar": {
             "outlinewidth": 1,
             "tickcolor": "rgb(36,36,36)",
             "ticks": "outside"
            },
            "type": "contourcarpet"
           }
          ],
          "heatmap": [
           {
            "colorbar": {
             "outlinewidth": 1,
             "tickcolor": "rgb(36,36,36)",
             "ticks": "outside"
            },
            "colorscale": [
             [
              0,
              "#440154"
             ],
             [
              0.1111111111111111,
              "#482878"
             ],
             [
              0.2222222222222222,
              "#3e4989"
             ],
             [
              0.3333333333333333,
              "#31688e"
             ],
             [
              0.4444444444444444,
              "#26828e"
             ],
             [
              0.5555555555555556,
              "#1f9e89"
             ],
             [
              0.6666666666666666,
              "#35b779"
             ],
             [
              0.7777777777777778,
              "#6ece58"
             ],
             [
              0.8888888888888888,
              "#b5de2b"
             ],
             [
              1,
              "#fde725"
             ]
            ],
            "type": "heatmap"
           }
          ],
          "heatmapgl": [
           {
            "colorbar": {
             "outlinewidth": 1,
             "tickcolor": "rgb(36,36,36)",
             "ticks": "outside"
            },
            "colorscale": [
             [
              0,
              "#440154"
             ],
             [
              0.1111111111111111,
              "#482878"
             ],
             [
              0.2222222222222222,
              "#3e4989"
             ],
             [
              0.3333333333333333,
              "#31688e"
             ],
             [
              0.4444444444444444,
              "#26828e"
             ],
             [
              0.5555555555555556,
              "#1f9e89"
             ],
             [
              0.6666666666666666,
              "#35b779"
             ],
             [
              0.7777777777777778,
              "#6ece58"
             ],
             [
              0.8888888888888888,
              "#b5de2b"
             ],
             [
              1,
              "#fde725"
             ]
            ],
            "type": "heatmapgl"
           }
          ],
          "histogram": [
           {
            "marker": {
             "line": {
              "color": "white",
              "width": 0.6
             }
            },
            "type": "histogram"
           }
          ],
          "histogram2d": [
           {
            "colorbar": {
             "outlinewidth": 1,
             "tickcolor": "rgb(36,36,36)",
             "ticks": "outside"
            },
            "colorscale": [
             [
              0,
              "#440154"
             ],
             [
              0.1111111111111111,
              "#482878"
             ],
             [
              0.2222222222222222,
              "#3e4989"
             ],
             [
              0.3333333333333333,
              "#31688e"
             ],
             [
              0.4444444444444444,
              "#26828e"
             ],
             [
              0.5555555555555556,
              "#1f9e89"
             ],
             [
              0.6666666666666666,
              "#35b779"
             ],
             [
              0.7777777777777778,
              "#6ece58"
             ],
             [
              0.8888888888888888,
              "#b5de2b"
             ],
             [
              1,
              "#fde725"
             ]
            ],
            "type": "histogram2d"
           }
          ],
          "histogram2dcontour": [
           {
            "colorbar": {
             "outlinewidth": 1,
             "tickcolor": "rgb(36,36,36)",
             "ticks": "outside"
            },
            "colorscale": [
             [
              0,
              "#440154"
             ],
             [
              0.1111111111111111,
              "#482878"
             ],
             [
              0.2222222222222222,
              "#3e4989"
             ],
             [
              0.3333333333333333,
              "#31688e"
             ],
             [
              0.4444444444444444,
              "#26828e"
             ],
             [
              0.5555555555555556,
              "#1f9e89"
             ],
             [
              0.6666666666666666,
              "#35b779"
             ],
             [
              0.7777777777777778,
              "#6ece58"
             ],
             [
              0.8888888888888888,
              "#b5de2b"
             ],
             [
              1,
              "#fde725"
             ]
            ],
            "type": "histogram2dcontour"
           }
          ],
          "mesh3d": [
           {
            "colorbar": {
             "outlinewidth": 1,
             "tickcolor": "rgb(36,36,36)",
             "ticks": "outside"
            },
            "type": "mesh3d"
           }
          ],
          "parcoords": [
           {
            "line": {
             "colorbar": {
              "outlinewidth": 1,
              "tickcolor": "rgb(36,36,36)",
              "ticks": "outside"
             }
            },
            "type": "parcoords"
           }
          ],
          "pie": [
           {
            "automargin": true,
            "type": "pie"
           }
          ],
          "scatter": [
           {
            "fillpattern": {
             "fillmode": "overlay",
             "size": 10,
             "solidity": 0.2
            },
            "type": "scatter"
           }
          ],
          "scatter3d": [
           {
            "line": {
             "colorbar": {
              "outlinewidth": 1,
              "tickcolor": "rgb(36,36,36)",
              "ticks": "outside"
             }
            },
            "marker": {
             "colorbar": {
              "outlinewidth": 1,
              "tickcolor": "rgb(36,36,36)",
              "ticks": "outside"
             }
            },
            "type": "scatter3d"
           }
          ],
          "scattercarpet": [
           {
            "marker": {
             "colorbar": {
              "outlinewidth": 1,
              "tickcolor": "rgb(36,36,36)",
              "ticks": "outside"
             }
            },
            "type": "scattercarpet"
           }
          ],
          "scattergeo": [
           {
            "marker": {
             "colorbar": {
              "outlinewidth": 1,
              "tickcolor": "rgb(36,36,36)",
              "ticks": "outside"
             }
            },
            "type": "scattergeo"
           }
          ],
          "scattergl": [
           {
            "marker": {
             "colorbar": {
              "outlinewidth": 1,
              "tickcolor": "rgb(36,36,36)",
              "ticks": "outside"
             }
            },
            "type": "scattergl"
           }
          ],
          "scattermapbox": [
           {
            "marker": {
             "colorbar": {
              "outlinewidth": 1,
              "tickcolor": "rgb(36,36,36)",
              "ticks": "outside"
             }
            },
            "type": "scattermapbox"
           }
          ],
          "scatterpolar": [
           {
            "marker": {
             "colorbar": {
              "outlinewidth": 1,
              "tickcolor": "rgb(36,36,36)",
              "ticks": "outside"
             }
            },
            "type": "scatterpolar"
           }
          ],
          "scatterpolargl": [
           {
            "marker": {
             "colorbar": {
              "outlinewidth": 1,
              "tickcolor": "rgb(36,36,36)",
              "ticks": "outside"
             }
            },
            "type": "scatterpolargl"
           }
          ],
          "scatterternary": [
           {
            "marker": {
             "colorbar": {
              "outlinewidth": 1,
              "tickcolor": "rgb(36,36,36)",
              "ticks": "outside"
             }
            },
            "type": "scatterternary"
           }
          ],
          "surface": [
           {
            "colorbar": {
             "outlinewidth": 1,
             "tickcolor": "rgb(36,36,36)",
             "ticks": "outside"
            },
            "colorscale": [
             [
              0,
              "#440154"
             ],
             [
              0.1111111111111111,
              "#482878"
             ],
             [
              0.2222222222222222,
              "#3e4989"
             ],
             [
              0.3333333333333333,
              "#31688e"
             ],
             [
              0.4444444444444444,
              "#26828e"
             ],
             [
              0.5555555555555556,
              "#1f9e89"
             ],
             [
              0.6666666666666666,
              "#35b779"
             ],
             [
              0.7777777777777778,
              "#6ece58"
             ],
             [
              0.8888888888888888,
              "#b5de2b"
             ],
             [
              1,
              "#fde725"
             ]
            ],
            "type": "surface"
           }
          ],
          "table": [
           {
            "cells": {
             "fill": {
              "color": "rgb(237,237,237)"
             },
             "line": {
              "color": "white"
             }
            },
            "header": {
             "fill": {
              "color": "rgb(217,217,217)"
             },
             "line": {
              "color": "white"
             }
            },
            "type": "table"
           }
          ]
         },
         "layout": {
          "annotationdefaults": {
           "arrowhead": 0,
           "arrowwidth": 1
          },
          "autotypenumbers": "strict",
          "coloraxis": {
           "colorbar": {
            "outlinewidth": 1,
            "tickcolor": "rgb(36,36,36)",
            "ticks": "outside"
           }
          },
          "colorscale": {
           "diverging": [
            [
             0,
             "rgb(103,0,31)"
            ],
            [
             0.1,
             "rgb(178,24,43)"
            ],
            [
             0.2,
             "rgb(214,96,77)"
            ],
            [
             0.3,
             "rgb(244,165,130)"
            ],
            [
             0.4,
             "rgb(253,219,199)"
            ],
            [
             0.5,
             "rgb(247,247,247)"
            ],
            [
             0.6,
             "rgb(209,229,240)"
            ],
            [
             0.7,
             "rgb(146,197,222)"
            ],
            [
             0.8,
             "rgb(67,147,195)"
            ],
            [
             0.9,
             "rgb(33,102,172)"
            ],
            [
             1,
             "rgb(5,48,97)"
            ]
           ],
           "sequential": [
            [
             0,
             "#440154"
            ],
            [
             0.1111111111111111,
             "#482878"
            ],
            [
             0.2222222222222222,
             "#3e4989"
            ],
            [
             0.3333333333333333,
             "#31688e"
            ],
            [
             0.4444444444444444,
             "#26828e"
            ],
            [
             0.5555555555555556,
             "#1f9e89"
            ],
            [
             0.6666666666666666,
             "#35b779"
            ],
            [
             0.7777777777777778,
             "#6ece58"
            ],
            [
             0.8888888888888888,
             "#b5de2b"
            ],
            [
             1,
             "#fde725"
            ]
           ],
           "sequentialminus": [
            [
             0,
             "#440154"
            ],
            [
             0.1111111111111111,
             "#482878"
            ],
            [
             0.2222222222222222,
             "#3e4989"
            ],
            [
             0.3333333333333333,
             "#31688e"
            ],
            [
             0.4444444444444444,
             "#26828e"
            ],
            [
             0.5555555555555556,
             "#1f9e89"
            ],
            [
             0.6666666666666666,
             "#35b779"
            ],
            [
             0.7777777777777778,
             "#6ece58"
            ],
            [
             0.8888888888888888,
             "#b5de2b"
            ],
            [
             1,
             "#fde725"
            ]
           ]
          },
          "colorway": [
           "#1F77B4",
           "#FF7F0E",
           "#2CA02C",
           "#D62728",
           "#9467BD",
           "#8C564B",
           "#E377C2",
           "#7F7F7F",
           "#BCBD22",
           "#17BECF"
          ],
          "font": {
           "color": "rgb(36,36,36)"
          },
          "geo": {
           "bgcolor": "white",
           "lakecolor": "white",
           "landcolor": "white",
           "showlakes": true,
           "showland": true,
           "subunitcolor": "white"
          },
          "hoverlabel": {
           "align": "left"
          },
          "hovermode": "closest",
          "mapbox": {
           "style": "light"
          },
          "paper_bgcolor": "white",
          "plot_bgcolor": "white",
          "polar": {
           "angularaxis": {
            "gridcolor": "rgb(232,232,232)",
            "linecolor": "rgb(36,36,36)",
            "showgrid": false,
            "showline": true,
            "ticks": "outside"
           },
           "bgcolor": "white",
           "radialaxis": {
            "gridcolor": "rgb(232,232,232)",
            "linecolor": "rgb(36,36,36)",
            "showgrid": false,
            "showline": true,
            "ticks": "outside"
           }
          },
          "scene": {
           "xaxis": {
            "backgroundcolor": "white",
            "gridcolor": "rgb(232,232,232)",
            "gridwidth": 2,
            "linecolor": "rgb(36,36,36)",
            "showbackground": true,
            "showgrid": false,
            "showline": true,
            "ticks": "outside",
            "zeroline": false,
            "zerolinecolor": "rgb(36,36,36)"
           },
           "yaxis": {
            "backgroundcolor": "white",
            "gridcolor": "rgb(232,232,232)",
            "gridwidth": 2,
            "linecolor": "rgb(36,36,36)",
            "showbackground": true,
            "showgrid": false,
            "showline": true,
            "ticks": "outside",
            "zeroline": false,
            "zerolinecolor": "rgb(36,36,36)"
           },
           "zaxis": {
            "backgroundcolor": "white",
            "gridcolor": "rgb(232,232,232)",
            "gridwidth": 2,
            "linecolor": "rgb(36,36,36)",
            "showbackground": true,
            "showgrid": false,
            "showline": true,
            "ticks": "outside",
            "zeroline": false,
            "zerolinecolor": "rgb(36,36,36)"
           }
          },
          "shapedefaults": {
           "fillcolor": "black",
           "line": {
            "width": 0
           },
           "opacity": 0.3
          },
          "ternary": {
           "aaxis": {
            "gridcolor": "rgb(232,232,232)",
            "linecolor": "rgb(36,36,36)",
            "showgrid": false,
            "showline": true,
            "ticks": "outside"
           },
           "baxis": {
            "gridcolor": "rgb(232,232,232)",
            "linecolor": "rgb(36,36,36)",
            "showgrid": false,
            "showline": true,
            "ticks": "outside"
           },
           "bgcolor": "white",
           "caxis": {
            "gridcolor": "rgb(232,232,232)",
            "linecolor": "rgb(36,36,36)",
            "showgrid": false,
            "showline": true,
            "ticks": "outside"
           }
          },
          "title": {
           "x": 0.05
          },
          "xaxis": {
           "automargin": true,
           "gridcolor": "rgb(232,232,232)",
           "linecolor": "rgb(36,36,36)",
           "showgrid": false,
           "showline": true,
           "ticks": "outside",
           "title": {
            "standoff": 15
           },
           "zeroline": false,
           "zerolinecolor": "rgb(36,36,36)"
          },
          "yaxis": {
           "automargin": true,
           "gridcolor": "rgb(232,232,232)",
           "linecolor": "rgb(36,36,36)",
           "showgrid": false,
           "showline": true,
           "ticks": "outside",
           "title": {
            "standoff": 15
           },
           "zeroline": false,
           "zerolinecolor": "rgb(36,36,36)"
          }
         }
        },
        "width": 600,
        "xaxis": {
         "anchor": "y",
         "categoryarray": [
          "10m",
          "5m",
          "1m"
         ],
         "categoryorder": "array",
         "domain": [
          0,
          0.2833333333333333
         ],
         "title": {},
         "type": "category"
        },
        "xaxis2": {
         "anchor": "y2",
         "categoryarray": [
          "10m",
          "5m",
          "1m"
         ],
         "categoryorder": "array",
         "domain": [
          0.35833333333333334,
          0.6416666666666666
         ],
         "matches": "x",
         "title": {}
        },
        "xaxis3": {
         "anchor": "y3",
         "categoryarray": [
          "10m",
          "5m",
          "1m"
         ],
         "categoryorder": "array",
         "domain": [
          0.7166666666666667,
          1
         ],
         "matches": "x",
         "title": {}
        },
        "yaxis": {
         "anchor": "x",
         "domain": [
          0,
          1
         ],
         "nticks": 3,
         "range": [
          0.36,
          0.47
         ],
         "showticklabels": true,
         "title": {}
        },
        "yaxis2": {
         "anchor": "x2",
         "domain": [
          0,
          1
         ],
         "nticks": 3,
         "range": [
          0.42,
          0.54
         ],
         "showticklabels": true
        },
        "yaxis3": {
         "anchor": "x3",
         "domain": [
          0,
          1
         ],
         "nticks": 3,
         "range": [
          0.79,
          0.88
         ],
         "showticklabels": true
        }
       }
      },
      "text/html": [
       "<div>                            <div id=\"c3be1f1f-f8cf-47fe-ad19-52171b1bbf12\" class=\"plotly-graph-div\" style=\"height:200px; width:600px;\"></div>            <script type=\"text/javascript\">                require([\"plotly\"], function(Plotly) {                    window.PLOTLYENV=window.PLOTLYENV || {};                                    if (document.getElementById(\"c3be1f1f-f8cf-47fe-ad19-52171b1bbf12\")) {                    Plotly.newPlot(                        \"c3be1f1f-f8cf-47fe-ad19-52171b1bbf12\",                        [{\"hovertemplate\":\"refine_type=none\\u003cbr\\u003elabel_set=common\\u003cbr\\u003eres=%{x}\\u003cbr\\u003etrajectory_avg_miou=%{y}\\u003cextra\\u003e\\u003c\\u002fextra\\u003e\",\"legendgroup\":\"none\",\"line\":{\"color\":\"#2E5C80\",\"dash\":\"dash\"},\"marker\":{\"symbol\":\"x\"},\"mode\":\"markers+lines\",\"name\":\"none\",\"orientation\":\"v\",\"showlegend\":true,\"x\":[\"1m\",\"5m\",\"10m\"],\"xaxis\":\"x\",\"y\":[0.450097583107204,0.45123312069632054,0.4503002817602658],\"yaxis\":\"y\",\"type\":\"scatter\"},{\"hovertemplate\":\"refine_type=none\\u003cbr\\u003elabel_set=more_common\\u003cbr\\u003eres=%{x}\\u003cbr\\u003etrajectory_avg_miou=%{y}\\u003cextra\\u003e\\u003c\\u002fextra\\u003e\",\"legendgroup\":\"none\",\"line\":{\"color\":\"#2E5C80\",\"dash\":\"dash\"},\"marker\":{\"symbol\":\"x\"},\"mode\":\"markers+lines\",\"name\":\"none\",\"orientation\":\"v\",\"showlegend\":false,\"x\":[\"1m\",\"5m\",\"10m\"],\"xaxis\":\"x2\",\"y\":[0.5176557590209847,0.5191710777151783,0.5180415213094332],\"yaxis\":\"y2\",\"type\":\"scatter\"},{\"hovertemplate\":\"refine_type=none\\u003cbr\\u003elabel_set=most_common\\u003cbr\\u003eres=%{x}\\u003cbr\\u003etrajectory_avg_miou=%{y}\\u003cextra\\u003e\\u003c\\u002fextra\\u003e\",\"legendgroup\":\"none\",\"line\":{\"color\":\"#2E5C80\",\"dash\":\"dash\"},\"marker\":{\"symbol\":\"x\"},\"mode\":\"markers+lines\",\"name\":\"none\",\"orientation\":\"v\",\"showlegend\":false,\"x\":[\"1m\",\"5m\",\"10m\"],\"xaxis\":\"x3\",\"y\":[0.8596709650192885,0.8591226025182901,0.8586223490715781],\"yaxis\":\"y3\",\"type\":\"scatter\"},{\"hovertemplate\":\"refine_type=crf_planet\\u003cbr\\u003elabel_set=common\\u003cbr\\u003eres=%{x}\\u003cbr\\u003etrajectory_avg_miou=%{y}\\u003cextra\\u003e\\u003c\\u002fextra\\u003e\",\"legendgroup\":\"crf_planet\",\"line\":{\"color\":\"#0091FF\",\"dash\":\"dot\"},\"marker\":{\"symbol\":\"x\"},\"mode\":\"markers+lines\",\"name\":\"crf_planet\",\"orientation\":\"v\",\"showlegend\":true,\"x\":[\"1m\",\"5m\",\"10m\"],\"xaxis\":\"x\",\"y\":[0.45496293056200243,0.41886489813192807,0.430104969127848],\"yaxis\":\"y\",\"type\":\"scatter\"},{\"hovertemplate\":\"refine_type=crf_planet\\u003cbr\\u003elabel_set=more_common\\u003cbr\\u003eres=%{x}\\u003cbr\\u003etrajectory_avg_miou=%{y}\\u003cextra\\u003e\\u003c\\u002fextra\\u003e\",\"legendgroup\":\"crf_planet\",\"line\":{\"color\":\"#0091FF\",\"dash\":\"dot\"},\"marker\":{\"symbol\":\"x\"},\"mode\":\"markers+lines\",\"name\":\"crf_planet\",\"orientation\":\"v\",\"showlegend\":false,\"x\":[\"1m\",\"5m\",\"10m\"],\"xaxis\":\"x2\",\"y\":[0.5104782616064285,0.47795569295426926,0.479938080897159],\"yaxis\":\"y2\",\"type\":\"scatter\"},{\"hovertemplate\":\"refine_type=crf_planet\\u003cbr\\u003elabel_set=most_common\\u003cbr\\u003eres=%{x}\\u003cbr\\u003etrajectory_avg_miou=%{y}\\u003cextra\\u003e\\u003c\\u002fextra\\u003e\",\"legendgroup\":\"crf_planet\",\"line\":{\"color\":\"#0091FF\",\"dash\":\"dot\"},\"marker\":{\"symbol\":\"x\"},\"mode\":\"markers+lines\",\"name\":\"crf_planet\",\"orientation\":\"v\",\"showlegend\":false,\"x\":[\"1m\",\"5m\",\"10m\"],\"xaxis\":\"x3\",\"y\":[0.8695149512816496,0.8699194743493229,0.8626152242016212],\"yaxis\":\"y3\",\"type\":\"scatter\"},{\"hovertemplate\":\"refine_type=crf_naip_naip-nir\\u003cbr\\u003elabel_set=common\\u003cbr\\u003eres=%{x}\\u003cbr\\u003etrajectory_avg_miou=%{y}\\u003cextra\\u003e\\u003c\\u002fextra\\u003e\",\"legendgroup\":\"crf_naip_naip-nir\",\"line\":{\"color\":\"#FF7912\",\"dash\":\"solid\"},\"marker\":{\"symbol\":\"x\"},\"mode\":\"markers+lines\",\"name\":\"crf_naip_naip-nir\",\"orientation\":\"v\",\"showlegend\":true,\"x\":[\"1m\",\"5m\",\"10m\"],\"xaxis\":\"x\",\"y\":[0.44090194048530956,0.3995718844229328,0.37465319613313325],\"yaxis\":\"y\",\"type\":\"scatter\"},{\"hovertemplate\":\"refine_type=crf_naip_naip-nir\\u003cbr\\u003elabel_set=more_common\\u003cbr\\u003eres=%{x}\\u003cbr\\u003etrajectory_avg_miou=%{y}\\u003cextra\\u003e\\u003c\\u002fextra\\u003e\",\"legendgroup\":\"crf_naip_naip-nir\",\"line\":{\"color\":\"#FF7912\",\"dash\":\"solid\"},\"marker\":{\"symbol\":\"x\"},\"mode\":\"markers+lines\",\"name\":\"crf_naip_naip-nir\",\"orientation\":\"v\",\"showlegend\":false,\"x\":[\"1m\",\"5m\",\"10m\"],\"xaxis\":\"x2\",\"y\":[0.5041445311007519,0.45364031327111076,0.43337101096707076],\"yaxis\":\"y2\",\"type\":\"scatter\"},{\"hovertemplate\":\"refine_type=crf_naip_naip-nir\\u003cbr\\u003elabel_set=most_common\\u003cbr\\u003eres=%{x}\\u003cbr\\u003etrajectory_avg_miou=%{y}\\u003cextra\\u003e\\u003c\\u002fextra\\u003e\",\"legendgroup\":\"crf_naip_naip-nir\",\"line\":{\"color\":\"#FF7912\",\"dash\":\"solid\"},\"marker\":{\"symbol\":\"x\"},\"mode\":\"markers+lines\",\"name\":\"crf_naip_naip-nir\",\"orientation\":\"v\",\"showlegend\":false,\"x\":[\"1m\",\"5m\",\"10m\"],\"xaxis\":\"x3\",\"y\":[0.8648654122601436,0.8479680089136135,0.8099014314281341],\"yaxis\":\"y3\",\"type\":\"scatter\"}],                        {\"template\":{\"data\":{\"barpolar\":[{\"marker\":{\"line\":{\"color\":\"white\",\"width\":0.5},\"pattern\":{\"fillmode\":\"overlay\",\"size\":10,\"solidity\":0.2}},\"type\":\"barpolar\"}],\"bar\":[{\"error_x\":{\"color\":\"rgb(36,36,36)\"},\"error_y\":{\"color\":\"rgb(36,36,36)\"},\"marker\":{\"line\":{\"color\":\"white\",\"width\":0.5},\"pattern\":{\"fillmode\":\"overlay\",\"size\":10,\"solidity\":0.2}},\"type\":\"bar\"}],\"carpet\":[{\"aaxis\":{\"endlinecolor\":\"rgb(36,36,36)\",\"gridcolor\":\"white\",\"linecolor\":\"white\",\"minorgridcolor\":\"white\",\"startlinecolor\":\"rgb(36,36,36)\"},\"baxis\":{\"endlinecolor\":\"rgb(36,36,36)\",\"gridcolor\":\"white\",\"linecolor\":\"white\",\"minorgridcolor\":\"white\",\"startlinecolor\":\"rgb(36,36,36)\"},\"type\":\"carpet\"}],\"choropleth\":[{\"colorbar\":{\"outlinewidth\":1,\"tickcolor\":\"rgb(36,36,36)\",\"ticks\":\"outside\"},\"type\":\"choropleth\"}],\"contourcarpet\":[{\"colorbar\":{\"outlinewidth\":1,\"tickcolor\":\"rgb(36,36,36)\",\"ticks\":\"outside\"},\"type\":\"contourcarpet\"}],\"contour\":[{\"colorbar\":{\"outlinewidth\":1,\"tickcolor\":\"rgb(36,36,36)\",\"ticks\":\"outside\"},\"colorscale\":[[0.0,\"#440154\"],[0.1111111111111111,\"#482878\"],[0.2222222222222222,\"#3e4989\"],[0.3333333333333333,\"#31688e\"],[0.4444444444444444,\"#26828e\"],[0.5555555555555556,\"#1f9e89\"],[0.6666666666666666,\"#35b779\"],[0.7777777777777778,\"#6ece58\"],[0.8888888888888888,\"#b5de2b\"],[1.0,\"#fde725\"]],\"type\":\"contour\"}],\"heatmapgl\":[{\"colorbar\":{\"outlinewidth\":1,\"tickcolor\":\"rgb(36,36,36)\",\"ticks\":\"outside\"},\"colorscale\":[[0.0,\"#440154\"],[0.1111111111111111,\"#482878\"],[0.2222222222222222,\"#3e4989\"],[0.3333333333333333,\"#31688e\"],[0.4444444444444444,\"#26828e\"],[0.5555555555555556,\"#1f9e89\"],[0.6666666666666666,\"#35b779\"],[0.7777777777777778,\"#6ece58\"],[0.8888888888888888,\"#b5de2b\"],[1.0,\"#fde725\"]],\"type\":\"heatmapgl\"}],\"heatmap\":[{\"colorbar\":{\"outlinewidth\":1,\"tickcolor\":\"rgb(36,36,36)\",\"ticks\":\"outside\"},\"colorscale\":[[0.0,\"#440154\"],[0.1111111111111111,\"#482878\"],[0.2222222222222222,\"#3e4989\"],[0.3333333333333333,\"#31688e\"],[0.4444444444444444,\"#26828e\"],[0.5555555555555556,\"#1f9e89\"],[0.6666666666666666,\"#35b779\"],[0.7777777777777778,\"#6ece58\"],[0.8888888888888888,\"#b5de2b\"],[1.0,\"#fde725\"]],\"type\":\"heatmap\"}],\"histogram2dcontour\":[{\"colorbar\":{\"outlinewidth\":1,\"tickcolor\":\"rgb(36,36,36)\",\"ticks\":\"outside\"},\"colorscale\":[[0.0,\"#440154\"],[0.1111111111111111,\"#482878\"],[0.2222222222222222,\"#3e4989\"],[0.3333333333333333,\"#31688e\"],[0.4444444444444444,\"#26828e\"],[0.5555555555555556,\"#1f9e89\"],[0.6666666666666666,\"#35b779\"],[0.7777777777777778,\"#6ece58\"],[0.8888888888888888,\"#b5de2b\"],[1.0,\"#fde725\"]],\"type\":\"histogram2dcontour\"}],\"histogram2d\":[{\"colorbar\":{\"outlinewidth\":1,\"tickcolor\":\"rgb(36,36,36)\",\"ticks\":\"outside\"},\"colorscale\":[[0.0,\"#440154\"],[0.1111111111111111,\"#482878\"],[0.2222222222222222,\"#3e4989\"],[0.3333333333333333,\"#31688e\"],[0.4444444444444444,\"#26828e\"],[0.5555555555555556,\"#1f9e89\"],[0.6666666666666666,\"#35b779\"],[0.7777777777777778,\"#6ece58\"],[0.8888888888888888,\"#b5de2b\"],[1.0,\"#fde725\"]],\"type\":\"histogram2d\"}],\"histogram\":[{\"marker\":{\"line\":{\"color\":\"white\",\"width\":0.6}},\"type\":\"histogram\"}],\"mesh3d\":[{\"colorbar\":{\"outlinewidth\":1,\"tickcolor\":\"rgb(36,36,36)\",\"ticks\":\"outside\"},\"type\":\"mesh3d\"}],\"parcoords\":[{\"line\":{\"colorbar\":{\"outlinewidth\":1,\"tickcolor\":\"rgb(36,36,36)\",\"ticks\":\"outside\"}},\"type\":\"parcoords\"}],\"pie\":[{\"automargin\":true,\"type\":\"pie\"}],\"scatter3d\":[{\"line\":{\"colorbar\":{\"outlinewidth\":1,\"tickcolor\":\"rgb(36,36,36)\",\"ticks\":\"outside\"}},\"marker\":{\"colorbar\":{\"outlinewidth\":1,\"tickcolor\":\"rgb(36,36,36)\",\"ticks\":\"outside\"}},\"type\":\"scatter3d\"}],\"scattercarpet\":[{\"marker\":{\"colorbar\":{\"outlinewidth\":1,\"tickcolor\":\"rgb(36,36,36)\",\"ticks\":\"outside\"}},\"type\":\"scattercarpet\"}],\"scattergeo\":[{\"marker\":{\"colorbar\":{\"outlinewidth\":1,\"tickcolor\":\"rgb(36,36,36)\",\"ticks\":\"outside\"}},\"type\":\"scattergeo\"}],\"scattergl\":[{\"marker\":{\"colorbar\":{\"outlinewidth\":1,\"tickcolor\":\"rgb(36,36,36)\",\"ticks\":\"outside\"}},\"type\":\"scattergl\"}],\"scattermapbox\":[{\"marker\":{\"colorbar\":{\"outlinewidth\":1,\"tickcolor\":\"rgb(36,36,36)\",\"ticks\":\"outside\"}},\"type\":\"scattermapbox\"}],\"scatterpolargl\":[{\"marker\":{\"colorbar\":{\"outlinewidth\":1,\"tickcolor\":\"rgb(36,36,36)\",\"ticks\":\"outside\"}},\"type\":\"scatterpolargl\"}],\"scatterpolar\":[{\"marker\":{\"colorbar\":{\"outlinewidth\":1,\"tickcolor\":\"rgb(36,36,36)\",\"ticks\":\"outside\"}},\"type\":\"scatterpolar\"}],\"scatter\":[{\"fillpattern\":{\"fillmode\":\"overlay\",\"size\":10,\"solidity\":0.2},\"type\":\"scatter\"}],\"scatterternary\":[{\"marker\":{\"colorbar\":{\"outlinewidth\":1,\"tickcolor\":\"rgb(36,36,36)\",\"ticks\":\"outside\"}},\"type\":\"scatterternary\"}],\"surface\":[{\"colorbar\":{\"outlinewidth\":1,\"tickcolor\":\"rgb(36,36,36)\",\"ticks\":\"outside\"},\"colorscale\":[[0.0,\"#440154\"],[0.1111111111111111,\"#482878\"],[0.2222222222222222,\"#3e4989\"],[0.3333333333333333,\"#31688e\"],[0.4444444444444444,\"#26828e\"],[0.5555555555555556,\"#1f9e89\"],[0.6666666666666666,\"#35b779\"],[0.7777777777777778,\"#6ece58\"],[0.8888888888888888,\"#b5de2b\"],[1.0,\"#fde725\"]],\"type\":\"surface\"}],\"table\":[{\"cells\":{\"fill\":{\"color\":\"rgb(237,237,237)\"},\"line\":{\"color\":\"white\"}},\"header\":{\"fill\":{\"color\":\"rgb(217,217,217)\"},\"line\":{\"color\":\"white\"}},\"type\":\"table\"}]},\"layout\":{\"annotationdefaults\":{\"arrowhead\":0,\"arrowwidth\":1},\"autotypenumbers\":\"strict\",\"coloraxis\":{\"colorbar\":{\"outlinewidth\":1,\"tickcolor\":\"rgb(36,36,36)\",\"ticks\":\"outside\"}},\"colorscale\":{\"diverging\":[[0.0,\"rgb(103,0,31)\"],[0.1,\"rgb(178,24,43)\"],[0.2,\"rgb(214,96,77)\"],[0.3,\"rgb(244,165,130)\"],[0.4,\"rgb(253,219,199)\"],[0.5,\"rgb(247,247,247)\"],[0.6,\"rgb(209,229,240)\"],[0.7,\"rgb(146,197,222)\"],[0.8,\"rgb(67,147,195)\"],[0.9,\"rgb(33,102,172)\"],[1.0,\"rgb(5,48,97)\"]],\"sequential\":[[0.0,\"#440154\"],[0.1111111111111111,\"#482878\"],[0.2222222222222222,\"#3e4989\"],[0.3333333333333333,\"#31688e\"],[0.4444444444444444,\"#26828e\"],[0.5555555555555556,\"#1f9e89\"],[0.6666666666666666,\"#35b779\"],[0.7777777777777778,\"#6ece58\"],[0.8888888888888888,\"#b5de2b\"],[1.0,\"#fde725\"]],\"sequentialminus\":[[0.0,\"#440154\"],[0.1111111111111111,\"#482878\"],[0.2222222222222222,\"#3e4989\"],[0.3333333333333333,\"#31688e\"],[0.4444444444444444,\"#26828e\"],[0.5555555555555556,\"#1f9e89\"],[0.6666666666666666,\"#35b779\"],[0.7777777777777778,\"#6ece58\"],[0.8888888888888888,\"#b5de2b\"],[1.0,\"#fde725\"]]},\"colorway\":[\"#1F77B4\",\"#FF7F0E\",\"#2CA02C\",\"#D62728\",\"#9467BD\",\"#8C564B\",\"#E377C2\",\"#7F7F7F\",\"#BCBD22\",\"#17BECF\"],\"font\":{\"color\":\"rgb(36,36,36)\"},\"geo\":{\"bgcolor\":\"white\",\"lakecolor\":\"white\",\"landcolor\":\"white\",\"showlakes\":true,\"showland\":true,\"subunitcolor\":\"white\"},\"hoverlabel\":{\"align\":\"left\"},\"hovermode\":\"closest\",\"mapbox\":{\"style\":\"light\"},\"paper_bgcolor\":\"white\",\"plot_bgcolor\":\"white\",\"polar\":{\"angularaxis\":{\"gridcolor\":\"rgb(232,232,232)\",\"linecolor\":\"rgb(36,36,36)\",\"showgrid\":false,\"showline\":true,\"ticks\":\"outside\"},\"bgcolor\":\"white\",\"radialaxis\":{\"gridcolor\":\"rgb(232,232,232)\",\"linecolor\":\"rgb(36,36,36)\",\"showgrid\":false,\"showline\":true,\"ticks\":\"outside\"}},\"scene\":{\"xaxis\":{\"backgroundcolor\":\"white\",\"gridcolor\":\"rgb(232,232,232)\",\"gridwidth\":2,\"linecolor\":\"rgb(36,36,36)\",\"showbackground\":true,\"showgrid\":false,\"showline\":true,\"ticks\":\"outside\",\"zeroline\":false,\"zerolinecolor\":\"rgb(36,36,36)\"},\"yaxis\":{\"backgroundcolor\":\"white\",\"gridcolor\":\"rgb(232,232,232)\",\"gridwidth\":2,\"linecolor\":\"rgb(36,36,36)\",\"showbackground\":true,\"showgrid\":false,\"showline\":true,\"ticks\":\"outside\",\"zeroline\":false,\"zerolinecolor\":\"rgb(36,36,36)\"},\"zaxis\":{\"backgroundcolor\":\"white\",\"gridcolor\":\"rgb(232,232,232)\",\"gridwidth\":2,\"linecolor\":\"rgb(36,36,36)\",\"showbackground\":true,\"showgrid\":false,\"showline\":true,\"ticks\":\"outside\",\"zeroline\":false,\"zerolinecolor\":\"rgb(36,36,36)\"}},\"shapedefaults\":{\"fillcolor\":\"black\",\"line\":{\"width\":0},\"opacity\":0.3},\"ternary\":{\"aaxis\":{\"gridcolor\":\"rgb(232,232,232)\",\"linecolor\":\"rgb(36,36,36)\",\"showgrid\":false,\"showline\":true,\"ticks\":\"outside\"},\"baxis\":{\"gridcolor\":\"rgb(232,232,232)\",\"linecolor\":\"rgb(36,36,36)\",\"showgrid\":false,\"showline\":true,\"ticks\":\"outside\"},\"bgcolor\":\"white\",\"caxis\":{\"gridcolor\":\"rgb(232,232,232)\",\"linecolor\":\"rgb(36,36,36)\",\"showgrid\":false,\"showline\":true,\"ticks\":\"outside\"}},\"title\":{\"x\":0.05},\"xaxis\":{\"automargin\":true,\"gridcolor\":\"rgb(232,232,232)\",\"linecolor\":\"rgb(36,36,36)\",\"showgrid\":false,\"showline\":true,\"ticks\":\"outside\",\"title\":{\"standoff\":15},\"zeroline\":false,\"zerolinecolor\":\"rgb(36,36,36)\"},\"yaxis\":{\"automargin\":true,\"gridcolor\":\"rgb(232,232,232)\",\"linecolor\":\"rgb(36,36,36)\",\"showgrid\":false,\"showline\":true,\"ticks\":\"outside\",\"title\":{\"standoff\":15},\"zeroline\":false,\"zerolinecolor\":\"rgb(36,36,36)\"}}},\"xaxis\":{\"anchor\":\"y\",\"domain\":[0.0,0.2833333333333333],\"title\":{},\"categoryorder\":\"array\",\"categoryarray\":[\"10m\",\"5m\",\"1m\"],\"type\":\"category\"},\"yaxis\":{\"anchor\":\"x\",\"domain\":[0.0,1.0],\"title\":{},\"range\":[0.36,0.47],\"nticks\":3,\"showticklabels\":true},\"xaxis2\":{\"anchor\":\"y2\",\"domain\":[0.35833333333333334,0.6416666666666666],\"matches\":\"x\",\"title\":{},\"categoryorder\":\"array\",\"categoryarray\":[\"10m\",\"5m\",\"1m\"]},\"yaxis2\":{\"anchor\":\"x2\",\"domain\":[0.0,1.0],\"showticklabels\":true,\"range\":[0.42,0.54],\"nticks\":3},\"xaxis3\":{\"anchor\":\"y3\",\"domain\":[0.7166666666666667,1.0],\"matches\":\"x\",\"title\":{},\"categoryorder\":\"array\",\"categoryarray\":[\"10m\",\"5m\",\"1m\"]},\"yaxis3\":{\"anchor\":\"x3\",\"domain\":[0.0,1.0],\"showticklabels\":true,\"range\":[0.79,0.88],\"nticks\":3},\"annotations\":[{\"font\":{},\"showarrow\":false,\"text\":\"\",\"x\":0.14166666666666666,\"xanchor\":\"center\",\"xref\":\"paper\",\"y\":1.0,\"yanchor\":\"bottom\",\"yref\":\"paper\"},{\"font\":{},\"showarrow\":false,\"text\":\"\",\"x\":0.5,\"xanchor\":\"center\",\"xref\":\"paper\",\"y\":1.0,\"yanchor\":\"bottom\",\"yref\":\"paper\"},{\"font\":{},\"showarrow\":false,\"text\":\"\",\"x\":0.8583333333333334,\"xanchor\":\"center\",\"xref\":\"paper\",\"y\":1.0,\"yanchor\":\"bottom\",\"yref\":\"paper\"}],\"legend\":{\"title\":{\"text\":\"refine_type\"},\"tracegroupgap\":0,\"orientation\":\"h\",\"yanchor\":\"top\",\"y\":-0.1,\"xanchor\":\"right\",\"x\":1},\"margin\":{\"t\":0,\"l\":30,\"r\":20,\"b\":0},\"font\":{\"size\":16},\"showlegend\":false,\"width\":600,\"height\":200},                        {\"responsive\": true}                    ).then(function(){\n",
       "                            \n",
       "var gd = document.getElementById('c3be1f1f-f8cf-47fe-ad19-52171b1bbf12');\n",
       "var x = new MutationObserver(function (mutations, observer) {{\n",
       "        var display = window.getComputedStyle(gd).display;\n",
       "        if (!display || display === 'none') {{\n",
       "            console.log([gd, 'removed!']);\n",
       "            Plotly.purge(gd);\n",
       "            observer.disconnect();\n",
       "        }}\n",
       "}});\n",
       "\n",
       "// Listen for the removal of the full notebook cells\n",
       "var notebookContainer = gd.closest('#notebook-container');\n",
       "if (notebookContainer) {{\n",
       "    x.observe(notebookContainer, {childList: true});\n",
       "}}\n",
       "\n",
       "// Listen for the clearing of the current output cell\n",
       "var outputEl = gd.closest('.output');\n",
       "if (outputEl) {{\n",
       "    x.observe(outputEl, {childList: true});\n",
       "}}\n",
       "\n",
       "                        })                };                });            </script>        </div>"
      ]
     },
     "metadata": {},
     "output_type": "display_data"
    }
   ],
   "source": [
    "import plotly.express as px\n",
    "\n",
    "fig = px.line(space_df, x='res', y='trajectory_avg_miou',\n",
    "              color='refine_type', facet_col='label_set', facet_col_spacing=0.075, markers=True, title=None,\n",
    "              color_discrete_map={\n",
    "                    'none': '#2E5C80',\n",
    "                    'crf_planet': '#0091FF',\n",
    "                    'crf_naip_naip-nir': '#FF7912'\n",
    "              },\n",
    "              category_orders={\n",
    "                'label_set': ['common', 'more_common', 'most_common'],\n",
    "                'res' : ['10m', '5m', '1m']},\n",
    "              symbol='refine_type',\n",
    "              symbol_map={\n",
    "                    'none': 'x',\n",
    "                    'crf_planet': 'x',\n",
    "                    'crf_naip_naip-nir': 'x',\n",
    "              },\n",
    "              line_dash='refine_type',\n",
    "              line_dash_map={\n",
    "                        'none': 'dash',\n",
    "                        'crf_planet': 'dot',\n",
    "                        'crf_naip_naip-nir': 'solid'\n",
    "                  },\n",
    "              )\n",
    "for anno in fig['layout']['annotations']:\n",
    "    anno['text'] = ''\n",
    "fig.update_yaxes(range=[0.36, 0.47], nticks=3, row=1, col=1)\n",
    "fig.update_yaxes(range=[0.42, 0.54], nticks=3, row=1, col=2)\n",
    "fig.update_yaxes(range=[0.79, 0.88], nticks=3, row=1, col=3)\n",
    "# fig.update_xaxes(range=[11, -1])\n",
    "fig.update_layout(\n",
    "    legend=dict(\n",
    "        orientation=\"h\",\n",
    "        yanchor=\"top\",\n",
    "        y=-0.1,\n",
    "        xanchor=\"right\",\n",
    "        x=1,\n",
    "        #hide\n",
    "        \n",
    "    ),\n",
    "    showlegend=False,\n",
    "    template='simple_white',\n",
    "    width=600,\n",
    "    height=200,\n",
    "    margin=dict(l=30, r=20, t=0, b=0),\n",
    "    font=dict(size=16)\n",
    ")\n",
    "fig.update_yaxes(matches=None, showticklabels=True)\n",
    "fig.update_yaxes(title_text=None, row=1, col=1)\n",
    "fig.update_xaxes(title_text=None)\n",
    "fig.update_layout(showlegend=False, \n",
    "                  xaxis_type='category')\n",
    "fig.show()\n",
    "os.makedirs('spatial', exist_ok=True)\n",
    "fig.write_image('spatial/spatial-plot-nolegend.pdf')\n",
    "fig.write_image('spatial/spatial-plot-nolegend.pdf')"
   ]
  },
  {
   "cell_type": "code",
   "execution_count": null,
   "metadata": {},
   "outputs": [],
   "source": []
  }
 ],
 "metadata": {
  "kernelspec": {
   "display_name": "autoseg",
   "language": "python",
   "name": "python3"
  },
  "language_info": {
   "codemirror_mode": {
    "name": "ipython",
    "version": 3
   },
   "file_extension": ".py",
   "mimetype": "text/x-python",
   "name": "python",
   "nbconvert_exporter": "python",
   "pygments_lexer": "ipython3",
   "version": "3.11.3"
  }
 },
 "nbformat": 4,
 "nbformat_minor": 2
}
