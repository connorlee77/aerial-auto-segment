{
 "cells": [
  {
   "cell_type": "code",
   "execution_count": 129,
   "metadata": {},
   "outputs": [],
   "source": [
    "import numpy as np\n",
    "import pandas as pd\n",
    "import glob\n",
    "import os\n",
    "import tqdm\n",
    "import plotly.express as px\n",
    "import plotly.graph_objects as go\n",
    "from plotly.subplots import make_subplots"
   ]
  },
  {
   "cell_type": "code",
   "execution_count": 130,
   "metadata": {},
   "outputs": [],
   "source": [
    "def cm_to_iou(cm):\n",
    "    tps = np.diag(cm)\n",
    "    fps = cm.sum(axis=0) - tps\n",
    "    fns = cm.sum(axis=1) - tps\n",
    "    iou = tps / (tps + fps + fns)\n",
    "    return iou.squeeze()\n",
    "\n",
    "def cm_to_miou(cm):\n",
    "    iou = cm_to_iou(cm)\n",
    "    return iou.mean()\n",
    "\n",
    "def read_metrics(metrics_path):\n",
    "    with open(metrics_path, 'r') as f:\n",
    "        lines = f.readlines()\n",
    "        miou = float(lines[-1].split(':')[-1].strip())\n",
    "    return miou\n",
    "\n",
    "def add2dict(metrics_dict, label_set, seg_method, lulc_type, d3_type, res, refine_type, dataset, trajectory, cm, miou, jitter, jitter_type):\n",
    "    metrics_dict['dataset'].append(dataset)\n",
    "    metrics_dict['trajectory'].append(trajectory)\n",
    "    metrics_dict['label_set'].append(label_set)\n",
    "    metrics_dict['seg_method'].append(seg_method)\n",
    "    metrics_dict['lulc_type'].append(lulc_type)\n",
    "    metrics_dict['d3_type'].append(d3_type)\n",
    "    metrics_dict['res'].append(res)\n",
    "    metrics_dict['refine_type'].append(refine_type)\n",
    "    metrics_dict['cm'].append(cm)\n",
    "    # metrics_dict['iou'].append(iou)\n",
    "    metrics_dict['miou'].append(miou)\n",
    "\n",
    "    metrics_dict['jitter'].append(jitter)\n",
    "    metrics_dict['jitter_type'].append(jitter_type)\n"
   ]
  },
  {
   "cell_type": "code",
   "execution_count": 131,
   "metadata": {},
   "outputs": [],
   "source": [
    "common_idx2names = {\n",
    "    0 : 'water',\n",
    "    1 : 'trees',\n",
    "    2 : 'low_vegetation',\n",
    "    3 : 'built',\n",
    "    4 : 'ground',\n",
    "    5 : 'sky',\n",
    "}\n",
    "\n",
    "more_common_idx2names = {\n",
    "    0 : 'water',\n",
    "    1 : 'vegetation',\n",
    "    2 : 'built',\n",
    "    3 : 'ground',\n",
    "    4 : 'sky',\n",
    "}\n",
    "\n",
    "most_common_idx2names = {\n",
    "    0 : 'water',\n",
    "    1 : 'ground',\n",
    "    2 : 'sky',\n",
    "}"
   ]
  },
  {
   "cell_type": "code",
   "execution_count": 132,
   "metadata": {},
   "outputs": [],
   "source": [
    "cm_paths = glob.glob('./jitter_outputs/*/*/*/*/*/*/*/*/*/confusion_matrix.npy')"
   ]
  },
  {
   "cell_type": "code",
   "execution_count": 133,
   "metadata": {},
   "outputs": [
    {
     "name": "stderr",
     "output_type": "stream",
     "text": [
      "  0%|          | 0/792 [00:00<?, ?it/s]/tmp/ipykernel_4058664/4161497421.py:5: RuntimeWarning:\n",
      "\n",
      "invalid value encountered in divide\n",
      "\n",
      "100%|██████████| 792/792 [00:00<00:00, 6428.43it/s]\n"
     ]
    }
   ],
   "source": [
    "metrics_dict = {\n",
    "    'dataset' : [],\n",
    "    'trajectory' : [],\n",
    "    'label_set' : [],\n",
    "    'seg_method' : [],\n",
    "    'lulc_type' : [],\n",
    "    'd3_type' : [],\n",
    "    'res' : [],\n",
    "    'refine_type' : [],\n",
    "    'cm' : [],\n",
    "    # 'iou' : [],\n",
    "    'miou' : [],\n",
    "    'jitter' : [],\n",
    "    'jitter_type' : [],\n",
    "}\n",
    "\n",
    "for cm_filepath in tqdm.tqdm(cm_paths):\n",
    "    iou_path = cm_filepath.replace('confusion_matrix.npy', 'metrics.txt')\n",
    "    miou = read_metrics(iou_path)\n",
    "\n",
    "    label_set, seg_method, lulc_type, jitter, d3_type, res, refine_type, dataset, trajectory = cm_filepath.split(os.path.sep)[-10:-1]\n",
    "    cm = np.load(cm_filepath)\n",
    "    iou = cm_to_iou(cm)\n",
    "    gps_jitter, altitude_jitter, imu_jitter = map(float, jitter.split('_'))\n",
    "    if gps_jitter == 0 and altitude_jitter == 0:\n",
    "        jitter_type = 'imu'\n",
    "        jitter = imu_jitter\n",
    "    elif gps_jitter == 0 and imu_jitter == 0:\n",
    "        jitter_type = 'altitude'\n",
    "        jitter = altitude_jitter\n",
    "    elif imu_jitter == 0 and altitude_jitter == 0:\n",
    "        jitter_type = 'gps'\n",
    "        jitter = gps_jitter\n",
    "\n",
    "    if (jitter_type == 'gps' or jitter_type == 'altitude') and jitter > 10:\n",
    "        continue\n",
    "    \n",
    "    add2dict(metrics_dict, label_set, seg_method, lulc_type, d3_type, res, refine_type, dataset, trajectory, cm, miou, jitter, jitter_type)\n",
    "    \n"
   ]
  },
  {
   "cell_type": "code",
   "execution_count": 134,
   "metadata": {},
   "outputs": [],
   "source": [
    "df = pd.DataFrame.from_dict(metrics_dict)"
   ]
  },
  {
   "cell_type": "code",
   "execution_count": 135,
   "metadata": {},
   "outputs": [],
   "source": [
    "unique_ids = ['label_set', 'jitter_type', 'jitter']\n",
    "grouped_df = df.groupby(unique_ids)"
   ]
  },
  {
   "cell_type": "code",
   "execution_count": 136,
   "metadata": {},
   "outputs": [],
   "source": [
    "counts = grouped_df['miou'].transform('count')\n",
    "cm_sum = grouped_df['cm'].transform('sum')\n",
    "trajectory_avg_miou = grouped_df['miou'].transform('mean')\n",
    "trajectory_miou_std = grouped_df['miou'].transform('std')\n",
    "\n",
    "df['trajectory_count'] = counts\n",
    "df['cm_sum'] = cm_sum\n",
    "df['trajectory_avg_miou'] = trajectory_avg_miou\n",
    "df['trajectory_miou_std'] = trajectory_miou_std\n",
    "df['miou (total)'] = df.apply(lambda x: cm_to_miou(x['cm_sum']), axis=1)\n"
   ]
  },
  {
   "cell_type": "markdown",
   "metadata": {},
   "source": []
  },
  {
   "cell_type": "code",
   "execution_count": 191,
   "metadata": {},
   "outputs": [
    {
     "data": {
      "application/vnd.plotly.v1+json": {
       "config": {
        "plotlyServerURL": "https://plot.ly"
       },
       "data": [
        {
         "hovertemplate": "label_set=common<br>jitter_type=altitude<br>jitter=%{x}<br>trajectory_avg_miou=%{y}<extra></extra>",
         "legendgroup": "common",
         "line": {
          "color": "#FF7912",
          "dash": "solid"
         },
         "marker": {
          "symbol": "circle"
         },
         "mode": "lines+markers",
         "name": "common",
         "orientation": "v",
         "showlegend": true,
         "type": "scatter",
         "x": [
          10,
          5,
          3,
          2,
          1,
          0.5,
          0.25
         ],
         "xaxis": "x",
         "y": [
          0.31809884393585564,
          0.35070312309284285,
          0.3651462157127593,
          0.391918508381403,
          0.39292213903454676,
          0.39516109594686527,
          0.39328708426069736
         ],
         "yaxis": "y"
        },
        {
         "hovertemplate": "label_set=common<br>jitter_type=gps<br>jitter=%{x}<br>trajectory_avg_miou=%{y}<extra></extra>",
         "legendgroup": "common",
         "line": {
          "color": "#FF7912",
          "dash": "solid"
         },
         "marker": {
          "symbol": "circle"
         },
         "mode": "lines+markers",
         "name": "common",
         "orientation": "v",
         "showlegend": false,
         "type": "scatter",
         "x": [
          10,
          5,
          3,
          2,
          1,
          0.5
         ],
         "xaxis": "x2",
         "y": [
          0.31561342381871144,
          0.3385164738923153,
          0.37083808923591993,
          0.38888146164830223,
          0.3933255400539041,
          0.3938464576223106
         ],
         "yaxis": "y2"
        },
        {
         "hovertemplate": "label_set=common<br>jitter_type=imu<br>jitter=%{x}<br>trajectory_avg_miou=%{y}<extra></extra>",
         "legendgroup": "common",
         "line": {
          "color": "#FF7912",
          "dash": "solid"
         },
         "marker": {
          "symbol": "circle"
         },
         "mode": "lines+markers",
         "name": "common",
         "orientation": "v",
         "showlegend": false,
         "type": "scatter",
         "x": [
          2,
          1.75,
          1.5,
          1.25,
          1,
          0.75,
          0.5,
          0.25
         ],
         "xaxis": "x3",
         "y": [
          0.3798011662534645,
          0.390844952091091,
          0.39310465069367384,
          0.3930898472060848,
          0.39383350278561086,
          0.3972237133456804,
          0.3982460638099448,
          0.39867015180346305
         ],
         "yaxis": "y3"
        },
        {
         "hovertemplate": "label_set=more_common<br>jitter_type=altitude<br>jitter=%{x}<br>trajectory_avg_miou=%{y}<extra></extra>",
         "legendgroup": "more_common",
         "line": {
          "color": "#0091FF",
          "dash": "solid"
         },
         "marker": {
          "symbol": "circle"
         },
         "mode": "lines+markers",
         "name": "more_common",
         "orientation": "v",
         "showlegend": true,
         "type": "scatter",
         "x": [
          10,
          5,
          3,
          2,
          1,
          0.5,
          0.25
         ],
         "xaxis": "x",
         "y": [
          0.3841460627163583,
          0.42291669693798295,
          0.44068195752481576,
          0.4727404886165503,
          0.4737628949814317,
          0.4763458201838034,
          0.4743226203313626
         ],
         "yaxis": "y"
        },
        {
         "hovertemplate": "label_set=more_common<br>jitter_type=gps<br>jitter=%{x}<br>trajectory_avg_miou=%{y}<extra></extra>",
         "legendgroup": "more_common",
         "line": {
          "color": "#0091FF",
          "dash": "solid"
         },
         "marker": {
          "symbol": "circle"
         },
         "mode": "lines+markers",
         "name": "more_common",
         "orientation": "v",
         "showlegend": false,
         "type": "scatter",
         "x": [
          10,
          5,
          3,
          2,
          1,
          0.5
         ],
         "xaxis": "x2",
         "y": [
          0.380713084922853,
          0.40816728108027306,
          0.4471098842041031,
          0.4688167660394408,
          0.47428388691880924,
          0.47519744653391877
         ],
         "yaxis": "y2"
        },
        {
         "hovertemplate": "label_set=more_common<br>jitter_type=imu<br>jitter=%{x}<br>trajectory_avg_miou=%{y}<extra></extra>",
         "legendgroup": "more_common",
         "line": {
          "color": "#0091FF",
          "dash": "solid"
         },
         "marker": {
          "symbol": "circle"
         },
         "mode": "lines+markers",
         "name": "more_common",
         "orientation": "v",
         "showlegend": false,
         "type": "scatter",
         "x": [
          2,
          1.75,
          1.5,
          1.25,
          1,
          0.75,
          0.5,
          0.25
         ],
         "xaxis": "x3",
         "y": [
          0.4580183490979415,
          0.4720374351686246,
          0.47374651614461827,
          0.4743638735935079,
          0.4747987381247109,
          0.4787655962348863,
          0.48021620741381493,
          0.4807527317494991
         ],
         "yaxis": "y3"
        },
        {
         "hovertemplate": "label_set=most_common<br>jitter_type=altitude<br>jitter=%{x}<br>trajectory_avg_miou=%{y}<extra></extra>",
         "legendgroup": "most_common",
         "line": {
          "color": "#2E5C80",
          "dash": "solid"
         },
         "marker": {
          "symbol": "x"
         },
         "mode": "lines+markers",
         "name": "most_common",
         "orientation": "v",
         "showlegend": true,
         "type": "scatter",
         "x": [
          10,
          5,
          3,
          2,
          1,
          0.5,
          0.25
         ],
         "xaxis": "x",
         "y": [
          0.6385870148231928,
          0.694235182173241,
          0.731471716939165,
          0.7866584999108828,
          0.7922971023322151,
          0.7937964125781204,
          0.7902963613005369
         ],
         "yaxis": "y"
        },
        {
         "hovertemplate": "label_set=most_common<br>jitter_type=gps<br>jitter=%{x}<br>trajectory_avg_miou=%{y}<extra></extra>",
         "legendgroup": "most_common",
         "line": {
          "color": "#2E5C80",
          "dash": "solid"
         },
         "marker": {
          "symbol": "x"
         },
         "mode": "lines+markers",
         "name": "most_common",
         "orientation": "v",
         "showlegend": false,
         "type": "scatter",
         "x": [
          10,
          5,
          3,
          2,
          1,
          0.5
         ],
         "xaxis": "x2",
         "y": [
          0.6368872717944268,
          0.6762104787759142,
          0.7430660452858585,
          0.7881027496486683,
          0.7938987527559099,
          0.7923270171466572
         ],
         "yaxis": "y2"
        },
        {
         "hovertemplate": "label_set=most_common<br>jitter_type=imu<br>jitter=%{x}<br>trajectory_avg_miou=%{y}<extra></extra>",
         "legendgroup": "most_common",
         "line": {
          "color": "#2E5C80",
          "dash": "solid"
         },
         "marker": {
          "symbol": "x"
         },
         "mode": "lines+markers",
         "name": "most_common",
         "orientation": "v",
         "showlegend": false,
         "type": "scatter",
         "x": [
          2,
          1.75,
          1.5,
          1.25,
          1,
          0.75,
          0.5,
          0.25
         ],
         "xaxis": "x3",
         "y": [
          0.7620830266489299,
          0.7845720821763048,
          0.7850755744161869,
          0.7873515997735558,
          0.7891487029873268,
          0.7963319274259995,
          0.7985016667844094,
          0.7991876805059193
         ],
         "yaxis": "y3"
        }
       ],
       "layout": {
        "annotations": [
         {
          "showarrow": false,
          "text": "",
          "x": 0.15333333333333332,
          "xanchor": "center",
          "xref": "paper",
          "y": 1,
          "yanchor": "bottom",
          "yref": "paper"
         },
         {
          "showarrow": false,
          "text": "",
          "x": 0.5,
          "xanchor": "center",
          "xref": "paper",
          "y": 1,
          "yanchor": "bottom",
          "yref": "paper"
         },
         {
          "showarrow": false,
          "text": "",
          "x": 0.8466666666666666,
          "xanchor": "center",
          "xref": "paper",
          "y": 1,
          "yanchor": "bottom",
          "yref": "paper"
         },
         {
          "font": {
           "size": 16
          },
          "showarrow": false,
          "text": "2m",
          "x": 2,
          "xanchor": "left",
          "xref": "x",
          "y": 0.5,
          "yanchor": "middle",
          "yref": "y domain"
         },
         {
          "font": {
           "size": 16
          },
          "showarrow": false,
          "text": "2m",
          "x": 2,
          "xanchor": "left",
          "xref": "x2",
          "y": 0.5,
          "yanchor": "middle",
          "yref": "y2 domain"
         },
         {
          "font": {
           "size": 16
          },
          "showarrow": false,
          "text": "1.8&deg;",
          "x": 1.8,
          "xanchor": "left",
          "xref": "x3",
          "y": 0.5,
          "yanchor": "middle",
          "yref": "y3 domain"
         }
        ],
        "font": {
         "size": 16
        },
        "height": 200,
        "legend": {
         "orientation": "h",
         "title": {},
         "tracegroupgap": 0,
         "x": 1,
         "xanchor": "right",
         "y": -0.2,
         "yanchor": "top"
        },
        "margin": {
         "b": 0,
         "l": 20,
         "r": 20,
         "t": 10
        },
        "shapes": [
         {
          "line": {
           "color": "black",
           "dash": "dot",
           "width": 1
          },
          "type": "line",
          "x0": 2,
          "x1": 2,
          "xref": "x",
          "y0": 0,
          "y1": 1,
          "yref": "y domain"
         },
         {
          "line": {
           "color": "black",
           "dash": "dot",
           "width": 1
          },
          "type": "line",
          "x0": 2,
          "x1": 2,
          "xref": "x2",
          "y0": 0,
          "y1": 1,
          "yref": "y2 domain"
         },
         {
          "line": {
           "color": "black",
           "dash": "dot",
           "width": 1
          },
          "type": "line",
          "x0": 1.8,
          "x1": 1.8,
          "xref": "x3",
          "y0": 0,
          "y1": 1,
          "yref": "y3 domain"
         }
        ],
        "showlegend": false,
        "template": {
         "data": {
          "bar": [
           {
            "error_x": {
             "color": "rgb(36,36,36)"
            },
            "error_y": {
             "color": "rgb(36,36,36)"
            },
            "marker": {
             "line": {
              "color": "white",
              "width": 0.5
             },
             "pattern": {
              "fillmode": "overlay",
              "size": 10,
              "solidity": 0.2
             }
            },
            "type": "bar"
           }
          ],
          "barpolar": [
           {
            "marker": {
             "line": {
              "color": "white",
              "width": 0.5
             },
             "pattern": {
              "fillmode": "overlay",
              "size": 10,
              "solidity": 0.2
             }
            },
            "type": "barpolar"
           }
          ],
          "carpet": [
           {
            "aaxis": {
             "endlinecolor": "rgb(36,36,36)",
             "gridcolor": "white",
             "linecolor": "white",
             "minorgridcolor": "white",
             "startlinecolor": "rgb(36,36,36)"
            },
            "baxis": {
             "endlinecolor": "rgb(36,36,36)",
             "gridcolor": "white",
             "linecolor": "white",
             "minorgridcolor": "white",
             "startlinecolor": "rgb(36,36,36)"
            },
            "type": "carpet"
           }
          ],
          "choropleth": [
           {
            "colorbar": {
             "outlinewidth": 1,
             "tickcolor": "rgb(36,36,36)",
             "ticks": "outside"
            },
            "type": "choropleth"
           }
          ],
          "contour": [
           {
            "colorbar": {
             "outlinewidth": 1,
             "tickcolor": "rgb(36,36,36)",
             "ticks": "outside"
            },
            "colorscale": [
             [
              0,
              "#440154"
             ],
             [
              0.1111111111111111,
              "#482878"
             ],
             [
              0.2222222222222222,
              "#3e4989"
             ],
             [
              0.3333333333333333,
              "#31688e"
             ],
             [
              0.4444444444444444,
              "#26828e"
             ],
             [
              0.5555555555555556,
              "#1f9e89"
             ],
             [
              0.6666666666666666,
              "#35b779"
             ],
             [
              0.7777777777777778,
              "#6ece58"
             ],
             [
              0.8888888888888888,
              "#b5de2b"
             ],
             [
              1,
              "#fde725"
             ]
            ],
            "type": "contour"
           }
          ],
          "contourcarpet": [
           {
            "colorbar": {
             "outlinewidth": 1,
             "tickcolor": "rgb(36,36,36)",
             "ticks": "outside"
            },
            "type": "contourcarpet"
           }
          ],
          "heatmap": [
           {
            "colorbar": {
             "outlinewidth": 1,
             "tickcolor": "rgb(36,36,36)",
             "ticks": "outside"
            },
            "colorscale": [
             [
              0,
              "#440154"
             ],
             [
              0.1111111111111111,
              "#482878"
             ],
             [
              0.2222222222222222,
              "#3e4989"
             ],
             [
              0.3333333333333333,
              "#31688e"
             ],
             [
              0.4444444444444444,
              "#26828e"
             ],
             [
              0.5555555555555556,
              "#1f9e89"
             ],
             [
              0.6666666666666666,
              "#35b779"
             ],
             [
              0.7777777777777778,
              "#6ece58"
             ],
             [
              0.8888888888888888,
              "#b5de2b"
             ],
             [
              1,
              "#fde725"
             ]
            ],
            "type": "heatmap"
           }
          ],
          "heatmapgl": [
           {
            "colorbar": {
             "outlinewidth": 1,
             "tickcolor": "rgb(36,36,36)",
             "ticks": "outside"
            },
            "colorscale": [
             [
              0,
              "#440154"
             ],
             [
              0.1111111111111111,
              "#482878"
             ],
             [
              0.2222222222222222,
              "#3e4989"
             ],
             [
              0.3333333333333333,
              "#31688e"
             ],
             [
              0.4444444444444444,
              "#26828e"
             ],
             [
              0.5555555555555556,
              "#1f9e89"
             ],
             [
              0.6666666666666666,
              "#35b779"
             ],
             [
              0.7777777777777778,
              "#6ece58"
             ],
             [
              0.8888888888888888,
              "#b5de2b"
             ],
             [
              1,
              "#fde725"
             ]
            ],
            "type": "heatmapgl"
           }
          ],
          "histogram": [
           {
            "marker": {
             "line": {
              "color": "white",
              "width": 0.6
             }
            },
            "type": "histogram"
           }
          ],
          "histogram2d": [
           {
            "colorbar": {
             "outlinewidth": 1,
             "tickcolor": "rgb(36,36,36)",
             "ticks": "outside"
            },
            "colorscale": [
             [
              0,
              "#440154"
             ],
             [
              0.1111111111111111,
              "#482878"
             ],
             [
              0.2222222222222222,
              "#3e4989"
             ],
             [
              0.3333333333333333,
              "#31688e"
             ],
             [
              0.4444444444444444,
              "#26828e"
             ],
             [
              0.5555555555555556,
              "#1f9e89"
             ],
             [
              0.6666666666666666,
              "#35b779"
             ],
             [
              0.7777777777777778,
              "#6ece58"
             ],
             [
              0.8888888888888888,
              "#b5de2b"
             ],
             [
              1,
              "#fde725"
             ]
            ],
            "type": "histogram2d"
           }
          ],
          "histogram2dcontour": [
           {
            "colorbar": {
             "outlinewidth": 1,
             "tickcolor": "rgb(36,36,36)",
             "ticks": "outside"
            },
            "colorscale": [
             [
              0,
              "#440154"
             ],
             [
              0.1111111111111111,
              "#482878"
             ],
             [
              0.2222222222222222,
              "#3e4989"
             ],
             [
              0.3333333333333333,
              "#31688e"
             ],
             [
              0.4444444444444444,
              "#26828e"
             ],
             [
              0.5555555555555556,
              "#1f9e89"
             ],
             [
              0.6666666666666666,
              "#35b779"
             ],
             [
              0.7777777777777778,
              "#6ece58"
             ],
             [
              0.8888888888888888,
              "#b5de2b"
             ],
             [
              1,
              "#fde725"
             ]
            ],
            "type": "histogram2dcontour"
           }
          ],
          "mesh3d": [
           {
            "colorbar": {
             "outlinewidth": 1,
             "tickcolor": "rgb(36,36,36)",
             "ticks": "outside"
            },
            "type": "mesh3d"
           }
          ],
          "parcoords": [
           {
            "line": {
             "colorbar": {
              "outlinewidth": 1,
              "tickcolor": "rgb(36,36,36)",
              "ticks": "outside"
             }
            },
            "type": "parcoords"
           }
          ],
          "pie": [
           {
            "automargin": true,
            "type": "pie"
           }
          ],
          "scatter": [
           {
            "fillpattern": {
             "fillmode": "overlay",
             "size": 10,
             "solidity": 0.2
            },
            "type": "scatter"
           }
          ],
          "scatter3d": [
           {
            "line": {
             "colorbar": {
              "outlinewidth": 1,
              "tickcolor": "rgb(36,36,36)",
              "ticks": "outside"
             }
            },
            "marker": {
             "colorbar": {
              "outlinewidth": 1,
              "tickcolor": "rgb(36,36,36)",
              "ticks": "outside"
             }
            },
            "type": "scatter3d"
           }
          ],
          "scattercarpet": [
           {
            "marker": {
             "colorbar": {
              "outlinewidth": 1,
              "tickcolor": "rgb(36,36,36)",
              "ticks": "outside"
             }
            },
            "type": "scattercarpet"
           }
          ],
          "scattergeo": [
           {
            "marker": {
             "colorbar": {
              "outlinewidth": 1,
              "tickcolor": "rgb(36,36,36)",
              "ticks": "outside"
             }
            },
            "type": "scattergeo"
           }
          ],
          "scattergl": [
           {
            "marker": {
             "colorbar": {
              "outlinewidth": 1,
              "tickcolor": "rgb(36,36,36)",
              "ticks": "outside"
             }
            },
            "type": "scattergl"
           }
          ],
          "scattermapbox": [
           {
            "marker": {
             "colorbar": {
              "outlinewidth": 1,
              "tickcolor": "rgb(36,36,36)",
              "ticks": "outside"
             }
            },
            "type": "scattermapbox"
           }
          ],
          "scatterpolar": [
           {
            "marker": {
             "colorbar": {
              "outlinewidth": 1,
              "tickcolor": "rgb(36,36,36)",
              "ticks": "outside"
             }
            },
            "type": "scatterpolar"
           }
          ],
          "scatterpolargl": [
           {
            "marker": {
             "colorbar": {
              "outlinewidth": 1,
              "tickcolor": "rgb(36,36,36)",
              "ticks": "outside"
             }
            },
            "type": "scatterpolargl"
           }
          ],
          "scatterternary": [
           {
            "marker": {
             "colorbar": {
              "outlinewidth": 1,
              "tickcolor": "rgb(36,36,36)",
              "ticks": "outside"
             }
            },
            "type": "scatterternary"
           }
          ],
          "surface": [
           {
            "colorbar": {
             "outlinewidth": 1,
             "tickcolor": "rgb(36,36,36)",
             "ticks": "outside"
            },
            "colorscale": [
             [
              0,
              "#440154"
             ],
             [
              0.1111111111111111,
              "#482878"
             ],
             [
              0.2222222222222222,
              "#3e4989"
             ],
             [
              0.3333333333333333,
              "#31688e"
             ],
             [
              0.4444444444444444,
              "#26828e"
             ],
             [
              0.5555555555555556,
              "#1f9e89"
             ],
             [
              0.6666666666666666,
              "#35b779"
             ],
             [
              0.7777777777777778,
              "#6ece58"
             ],
             [
              0.8888888888888888,
              "#b5de2b"
             ],
             [
              1,
              "#fde725"
             ]
            ],
            "type": "surface"
           }
          ],
          "table": [
           {
            "cells": {
             "fill": {
              "color": "rgb(237,237,237)"
             },
             "line": {
              "color": "white"
             }
            },
            "header": {
             "fill": {
              "color": "rgb(217,217,217)"
             },
             "line": {
              "color": "white"
             }
            },
            "type": "table"
           }
          ]
         },
         "layout": {
          "annotationdefaults": {
           "arrowhead": 0,
           "arrowwidth": 1
          },
          "autotypenumbers": "strict",
          "coloraxis": {
           "colorbar": {
            "outlinewidth": 1,
            "tickcolor": "rgb(36,36,36)",
            "ticks": "outside"
           }
          },
          "colorscale": {
           "diverging": [
            [
             0,
             "rgb(103,0,31)"
            ],
            [
             0.1,
             "rgb(178,24,43)"
            ],
            [
             0.2,
             "rgb(214,96,77)"
            ],
            [
             0.3,
             "rgb(244,165,130)"
            ],
            [
             0.4,
             "rgb(253,219,199)"
            ],
            [
             0.5,
             "rgb(247,247,247)"
            ],
            [
             0.6,
             "rgb(209,229,240)"
            ],
            [
             0.7,
             "rgb(146,197,222)"
            ],
            [
             0.8,
             "rgb(67,147,195)"
            ],
            [
             0.9,
             "rgb(33,102,172)"
            ],
            [
             1,
             "rgb(5,48,97)"
            ]
           ],
           "sequential": [
            [
             0,
             "#440154"
            ],
            [
             0.1111111111111111,
             "#482878"
            ],
            [
             0.2222222222222222,
             "#3e4989"
            ],
            [
             0.3333333333333333,
             "#31688e"
            ],
            [
             0.4444444444444444,
             "#26828e"
            ],
            [
             0.5555555555555556,
             "#1f9e89"
            ],
            [
             0.6666666666666666,
             "#35b779"
            ],
            [
             0.7777777777777778,
             "#6ece58"
            ],
            [
             0.8888888888888888,
             "#b5de2b"
            ],
            [
             1,
             "#fde725"
            ]
           ],
           "sequentialminus": [
            [
             0,
             "#440154"
            ],
            [
             0.1111111111111111,
             "#482878"
            ],
            [
             0.2222222222222222,
             "#3e4989"
            ],
            [
             0.3333333333333333,
             "#31688e"
            ],
            [
             0.4444444444444444,
             "#26828e"
            ],
            [
             0.5555555555555556,
             "#1f9e89"
            ],
            [
             0.6666666666666666,
             "#35b779"
            ],
            [
             0.7777777777777778,
             "#6ece58"
            ],
            [
             0.8888888888888888,
             "#b5de2b"
            ],
            [
             1,
             "#fde725"
            ]
           ]
          },
          "colorway": [
           "#1F77B4",
           "#FF7F0E",
           "#2CA02C",
           "#D62728",
           "#9467BD",
           "#8C564B",
           "#E377C2",
           "#7F7F7F",
           "#BCBD22",
           "#17BECF"
          ],
          "font": {
           "color": "rgb(36,36,36)"
          },
          "geo": {
           "bgcolor": "white",
           "lakecolor": "white",
           "landcolor": "white",
           "showlakes": true,
           "showland": true,
           "subunitcolor": "white"
          },
          "hoverlabel": {
           "align": "left"
          },
          "hovermode": "closest",
          "mapbox": {
           "style": "light"
          },
          "paper_bgcolor": "white",
          "plot_bgcolor": "white",
          "polar": {
           "angularaxis": {
            "gridcolor": "rgb(232,232,232)",
            "linecolor": "rgb(36,36,36)",
            "showgrid": false,
            "showline": true,
            "ticks": "outside"
           },
           "bgcolor": "white",
           "radialaxis": {
            "gridcolor": "rgb(232,232,232)",
            "linecolor": "rgb(36,36,36)",
            "showgrid": false,
            "showline": true,
            "ticks": "outside"
           }
          },
          "scene": {
           "xaxis": {
            "backgroundcolor": "white",
            "gridcolor": "rgb(232,232,232)",
            "gridwidth": 2,
            "linecolor": "rgb(36,36,36)",
            "showbackground": true,
            "showgrid": false,
            "showline": true,
            "ticks": "outside",
            "zeroline": false,
            "zerolinecolor": "rgb(36,36,36)"
           },
           "yaxis": {
            "backgroundcolor": "white",
            "gridcolor": "rgb(232,232,232)",
            "gridwidth": 2,
            "linecolor": "rgb(36,36,36)",
            "showbackground": true,
            "showgrid": false,
            "showline": true,
            "ticks": "outside",
            "zeroline": false,
            "zerolinecolor": "rgb(36,36,36)"
           },
           "zaxis": {
            "backgroundcolor": "white",
            "gridcolor": "rgb(232,232,232)",
            "gridwidth": 2,
            "linecolor": "rgb(36,36,36)",
            "showbackground": true,
            "showgrid": false,
            "showline": true,
            "ticks": "outside",
            "zeroline": false,
            "zerolinecolor": "rgb(36,36,36)"
           }
          },
          "shapedefaults": {
           "fillcolor": "black",
           "line": {
            "width": 0
           },
           "opacity": 0.3
          },
          "ternary": {
           "aaxis": {
            "gridcolor": "rgb(232,232,232)",
            "linecolor": "rgb(36,36,36)",
            "showgrid": false,
            "showline": true,
            "ticks": "outside"
           },
           "baxis": {
            "gridcolor": "rgb(232,232,232)",
            "linecolor": "rgb(36,36,36)",
            "showgrid": false,
            "showline": true,
            "ticks": "outside"
           },
           "bgcolor": "white",
           "caxis": {
            "gridcolor": "rgb(232,232,232)",
            "linecolor": "rgb(36,36,36)",
            "showgrid": false,
            "showline": true,
            "ticks": "outside"
           }
          },
          "title": {
           "x": 0.05
          },
          "xaxis": {
           "automargin": true,
           "gridcolor": "rgb(232,232,232)",
           "linecolor": "rgb(36,36,36)",
           "showgrid": false,
           "showline": true,
           "ticks": "outside",
           "title": {
            "standoff": 15
           },
           "zeroline": false,
           "zerolinecolor": "rgb(36,36,36)"
          },
          "yaxis": {
           "automargin": true,
           "gridcolor": "rgb(232,232,232)",
           "linecolor": "rgb(36,36,36)",
           "showgrid": false,
           "showline": true,
           "ticks": "outside",
           "title": {
            "standoff": 15
           },
           "zeroline": false,
           "zerolinecolor": "rgb(36,36,36)"
          }
         }
        },
        "title": {},
        "width": 700,
        "xaxis": {
         "anchor": "y",
         "domain": [
          0,
          0.30666666666666664
         ],
         "nticks": 6,
         "range": [
          0,
          11
         ],
         "title": {}
        },
        "xaxis2": {
         "anchor": "y2",
         "domain": [
          0.3466666666666666,
          0.6533333333333333
         ],
         "nticks": 6,
         "range": [
          0,
          11
         ],
         "title": {}
        },
        "xaxis3": {
         "anchor": "y3",
         "domain": [
          0.6933333333333332,
          0.9999999999999999
         ],
         "nticks": 6,
         "tickangle": 0,
         "tickfont": {
          "size": 16
         },
         "tickformat": ".1f",
         "title": {}
        },
        "yaxis": {
         "anchor": "x",
         "domain": [
          0,
          1
         ],
         "range": [
          0.3,
          0.85
         ],
         "title": {}
        },
        "yaxis2": {
         "anchor": "x2",
         "domain": [
          0,
          1
         ],
         "matches": "y",
         "range": [
          0.3,
          0.85
         ],
         "showticklabels": false
        },
        "yaxis3": {
         "anchor": "x3",
         "domain": [
          0,
          1
         ],
         "matches": "y",
         "range": [
          0.3,
          0.85
         ],
         "showticklabels": false
        }
       }
      },
      "text/html": [
       "<div>                            <div id=\"30fc4fae-0e4e-42c6-b1cd-94d7ea6d90c7\" class=\"plotly-graph-div\" style=\"height:200px; width:700px;\"></div>            <script type=\"text/javascript\">                require([\"plotly\"], function(Plotly) {                    window.PLOTLYENV=window.PLOTLYENV || {};                                    if (document.getElementById(\"30fc4fae-0e4e-42c6-b1cd-94d7ea6d90c7\")) {                    Plotly.newPlot(                        \"30fc4fae-0e4e-42c6-b1cd-94d7ea6d90c7\",                        [{\"hovertemplate\":\"label_set=common\\u003cbr\\u003ejitter_type=altitude\\u003cbr\\u003ejitter=%{x}\\u003cbr\\u003etrajectory_avg_miou=%{y}\\u003cextra\\u003e\\u003c\\u002fextra\\u003e\",\"legendgroup\":\"common\",\"line\":{\"color\":\"#FF7912\",\"dash\":\"solid\"},\"marker\":{\"symbol\":\"circle\"},\"mode\":\"lines+markers\",\"name\":\"common\",\"orientation\":\"v\",\"showlegend\":true,\"x\":[10.0,5.0,3.0,2.0,1.0,0.5,0.25],\"xaxis\":\"x\",\"y\":[0.31809884393585564,0.35070312309284285,0.3651462157127593,0.391918508381403,0.39292213903454676,0.39516109594686527,0.39328708426069736],\"yaxis\":\"y\",\"type\":\"scatter\"},{\"hovertemplate\":\"label_set=common\\u003cbr\\u003ejitter_type=gps\\u003cbr\\u003ejitter=%{x}\\u003cbr\\u003etrajectory_avg_miou=%{y}\\u003cextra\\u003e\\u003c\\u002fextra\\u003e\",\"legendgroup\":\"common\",\"line\":{\"color\":\"#FF7912\",\"dash\":\"solid\"},\"marker\":{\"symbol\":\"circle\"},\"mode\":\"lines+markers\",\"name\":\"common\",\"orientation\":\"v\",\"showlegend\":false,\"x\":[10.0,5.0,3.0,2.0,1.0,0.5],\"xaxis\":\"x2\",\"y\":[0.31561342381871144,0.3385164738923153,0.37083808923591993,0.38888146164830223,0.3933255400539041,0.3938464576223106],\"yaxis\":\"y2\",\"type\":\"scatter\"},{\"hovertemplate\":\"label_set=common\\u003cbr\\u003ejitter_type=imu\\u003cbr\\u003ejitter=%{x}\\u003cbr\\u003etrajectory_avg_miou=%{y}\\u003cextra\\u003e\\u003c\\u002fextra\\u003e\",\"legendgroup\":\"common\",\"line\":{\"color\":\"#FF7912\",\"dash\":\"solid\"},\"marker\":{\"symbol\":\"circle\"},\"mode\":\"lines+markers\",\"name\":\"common\",\"orientation\":\"v\",\"showlegend\":false,\"x\":[2.0,1.75,1.5,1.25,1.0,0.75,0.5,0.25],\"xaxis\":\"x3\",\"y\":[0.3798011662534645,0.390844952091091,0.39310465069367384,0.3930898472060848,0.39383350278561086,0.3972237133456804,0.3982460638099448,0.39867015180346305],\"yaxis\":\"y3\",\"type\":\"scatter\"},{\"hovertemplate\":\"label_set=more_common\\u003cbr\\u003ejitter_type=altitude\\u003cbr\\u003ejitter=%{x}\\u003cbr\\u003etrajectory_avg_miou=%{y}\\u003cextra\\u003e\\u003c\\u002fextra\\u003e\",\"legendgroup\":\"more_common\",\"line\":{\"color\":\"#0091FF\",\"dash\":\"solid\"},\"marker\":{\"symbol\":\"circle\"},\"mode\":\"lines+markers\",\"name\":\"more_common\",\"orientation\":\"v\",\"showlegend\":true,\"x\":[10.0,5.0,3.0,2.0,1.0,0.5,0.25],\"xaxis\":\"x\",\"y\":[0.3841460627163583,0.42291669693798295,0.44068195752481576,0.4727404886165503,0.4737628949814317,0.4763458201838034,0.4743226203313626],\"yaxis\":\"y\",\"type\":\"scatter\"},{\"hovertemplate\":\"label_set=more_common\\u003cbr\\u003ejitter_type=gps\\u003cbr\\u003ejitter=%{x}\\u003cbr\\u003etrajectory_avg_miou=%{y}\\u003cextra\\u003e\\u003c\\u002fextra\\u003e\",\"legendgroup\":\"more_common\",\"line\":{\"color\":\"#0091FF\",\"dash\":\"solid\"},\"marker\":{\"symbol\":\"circle\"},\"mode\":\"lines+markers\",\"name\":\"more_common\",\"orientation\":\"v\",\"showlegend\":false,\"x\":[10.0,5.0,3.0,2.0,1.0,0.5],\"xaxis\":\"x2\",\"y\":[0.380713084922853,0.40816728108027306,0.4471098842041031,0.4688167660394408,0.47428388691880924,0.47519744653391877],\"yaxis\":\"y2\",\"type\":\"scatter\"},{\"hovertemplate\":\"label_set=more_common\\u003cbr\\u003ejitter_type=imu\\u003cbr\\u003ejitter=%{x}\\u003cbr\\u003etrajectory_avg_miou=%{y}\\u003cextra\\u003e\\u003c\\u002fextra\\u003e\",\"legendgroup\":\"more_common\",\"line\":{\"color\":\"#0091FF\",\"dash\":\"solid\"},\"marker\":{\"symbol\":\"circle\"},\"mode\":\"lines+markers\",\"name\":\"more_common\",\"orientation\":\"v\",\"showlegend\":false,\"x\":[2.0,1.75,1.5,1.25,1.0,0.75,0.5,0.25],\"xaxis\":\"x3\",\"y\":[0.4580183490979415,0.4720374351686246,0.47374651614461827,0.4743638735935079,0.4747987381247109,0.4787655962348863,0.48021620741381493,0.4807527317494991],\"yaxis\":\"y3\",\"type\":\"scatter\"},{\"hovertemplate\":\"label_set=most_common\\u003cbr\\u003ejitter_type=altitude\\u003cbr\\u003ejitter=%{x}\\u003cbr\\u003etrajectory_avg_miou=%{y}\\u003cextra\\u003e\\u003c\\u002fextra\\u003e\",\"legendgroup\":\"most_common\",\"line\":{\"color\":\"#2E5C80\",\"dash\":\"solid\"},\"marker\":{\"symbol\":\"x\"},\"mode\":\"lines+markers\",\"name\":\"most_common\",\"orientation\":\"v\",\"showlegend\":true,\"x\":[10.0,5.0,3.0,2.0,1.0,0.5,0.25],\"xaxis\":\"x\",\"y\":[0.6385870148231928,0.694235182173241,0.731471716939165,0.7866584999108828,0.7922971023322151,0.7937964125781204,0.7902963613005369],\"yaxis\":\"y\",\"type\":\"scatter\"},{\"hovertemplate\":\"label_set=most_common\\u003cbr\\u003ejitter_type=gps\\u003cbr\\u003ejitter=%{x}\\u003cbr\\u003etrajectory_avg_miou=%{y}\\u003cextra\\u003e\\u003c\\u002fextra\\u003e\",\"legendgroup\":\"most_common\",\"line\":{\"color\":\"#2E5C80\",\"dash\":\"solid\"},\"marker\":{\"symbol\":\"x\"},\"mode\":\"lines+markers\",\"name\":\"most_common\",\"orientation\":\"v\",\"showlegend\":false,\"x\":[10.0,5.0,3.0,2.0,1.0,0.5],\"xaxis\":\"x2\",\"y\":[0.6368872717944268,0.6762104787759142,0.7430660452858585,0.7881027496486683,0.7938987527559099,0.7923270171466572],\"yaxis\":\"y2\",\"type\":\"scatter\"},{\"hovertemplate\":\"label_set=most_common\\u003cbr\\u003ejitter_type=imu\\u003cbr\\u003ejitter=%{x}\\u003cbr\\u003etrajectory_avg_miou=%{y}\\u003cextra\\u003e\\u003c\\u002fextra\\u003e\",\"legendgroup\":\"most_common\",\"line\":{\"color\":\"#2E5C80\",\"dash\":\"solid\"},\"marker\":{\"symbol\":\"x\"},\"mode\":\"lines+markers\",\"name\":\"most_common\",\"orientation\":\"v\",\"showlegend\":false,\"x\":[2.0,1.75,1.5,1.25,1.0,0.75,0.5,0.25],\"xaxis\":\"x3\",\"y\":[0.7620830266489299,0.7845720821763048,0.7850755744161869,0.7873515997735558,0.7891487029873268,0.7963319274259995,0.7985016667844094,0.7991876805059193],\"yaxis\":\"y3\",\"type\":\"scatter\"}],                        {\"template\":{\"data\":{\"barpolar\":[{\"marker\":{\"line\":{\"color\":\"white\",\"width\":0.5},\"pattern\":{\"fillmode\":\"overlay\",\"size\":10,\"solidity\":0.2}},\"type\":\"barpolar\"}],\"bar\":[{\"error_x\":{\"color\":\"rgb(36,36,36)\"},\"error_y\":{\"color\":\"rgb(36,36,36)\"},\"marker\":{\"line\":{\"color\":\"white\",\"width\":0.5},\"pattern\":{\"fillmode\":\"overlay\",\"size\":10,\"solidity\":0.2}},\"type\":\"bar\"}],\"carpet\":[{\"aaxis\":{\"endlinecolor\":\"rgb(36,36,36)\",\"gridcolor\":\"white\",\"linecolor\":\"white\",\"minorgridcolor\":\"white\",\"startlinecolor\":\"rgb(36,36,36)\"},\"baxis\":{\"endlinecolor\":\"rgb(36,36,36)\",\"gridcolor\":\"white\",\"linecolor\":\"white\",\"minorgridcolor\":\"white\",\"startlinecolor\":\"rgb(36,36,36)\"},\"type\":\"carpet\"}],\"choropleth\":[{\"colorbar\":{\"outlinewidth\":1,\"tickcolor\":\"rgb(36,36,36)\",\"ticks\":\"outside\"},\"type\":\"choropleth\"}],\"contourcarpet\":[{\"colorbar\":{\"outlinewidth\":1,\"tickcolor\":\"rgb(36,36,36)\",\"ticks\":\"outside\"},\"type\":\"contourcarpet\"}],\"contour\":[{\"colorbar\":{\"outlinewidth\":1,\"tickcolor\":\"rgb(36,36,36)\",\"ticks\":\"outside\"},\"colorscale\":[[0.0,\"#440154\"],[0.1111111111111111,\"#482878\"],[0.2222222222222222,\"#3e4989\"],[0.3333333333333333,\"#31688e\"],[0.4444444444444444,\"#26828e\"],[0.5555555555555556,\"#1f9e89\"],[0.6666666666666666,\"#35b779\"],[0.7777777777777778,\"#6ece58\"],[0.8888888888888888,\"#b5de2b\"],[1.0,\"#fde725\"]],\"type\":\"contour\"}],\"heatmapgl\":[{\"colorbar\":{\"outlinewidth\":1,\"tickcolor\":\"rgb(36,36,36)\",\"ticks\":\"outside\"},\"colorscale\":[[0.0,\"#440154\"],[0.1111111111111111,\"#482878\"],[0.2222222222222222,\"#3e4989\"],[0.3333333333333333,\"#31688e\"],[0.4444444444444444,\"#26828e\"],[0.5555555555555556,\"#1f9e89\"],[0.6666666666666666,\"#35b779\"],[0.7777777777777778,\"#6ece58\"],[0.8888888888888888,\"#b5de2b\"],[1.0,\"#fde725\"]],\"type\":\"heatmapgl\"}],\"heatmap\":[{\"colorbar\":{\"outlinewidth\":1,\"tickcolor\":\"rgb(36,36,36)\",\"ticks\":\"outside\"},\"colorscale\":[[0.0,\"#440154\"],[0.1111111111111111,\"#482878\"],[0.2222222222222222,\"#3e4989\"],[0.3333333333333333,\"#31688e\"],[0.4444444444444444,\"#26828e\"],[0.5555555555555556,\"#1f9e89\"],[0.6666666666666666,\"#35b779\"],[0.7777777777777778,\"#6ece58\"],[0.8888888888888888,\"#b5de2b\"],[1.0,\"#fde725\"]],\"type\":\"heatmap\"}],\"histogram2dcontour\":[{\"colorbar\":{\"outlinewidth\":1,\"tickcolor\":\"rgb(36,36,36)\",\"ticks\":\"outside\"},\"colorscale\":[[0.0,\"#440154\"],[0.1111111111111111,\"#482878\"],[0.2222222222222222,\"#3e4989\"],[0.3333333333333333,\"#31688e\"],[0.4444444444444444,\"#26828e\"],[0.5555555555555556,\"#1f9e89\"],[0.6666666666666666,\"#35b779\"],[0.7777777777777778,\"#6ece58\"],[0.8888888888888888,\"#b5de2b\"],[1.0,\"#fde725\"]],\"type\":\"histogram2dcontour\"}],\"histogram2d\":[{\"colorbar\":{\"outlinewidth\":1,\"tickcolor\":\"rgb(36,36,36)\",\"ticks\":\"outside\"},\"colorscale\":[[0.0,\"#440154\"],[0.1111111111111111,\"#482878\"],[0.2222222222222222,\"#3e4989\"],[0.3333333333333333,\"#31688e\"],[0.4444444444444444,\"#26828e\"],[0.5555555555555556,\"#1f9e89\"],[0.6666666666666666,\"#35b779\"],[0.7777777777777778,\"#6ece58\"],[0.8888888888888888,\"#b5de2b\"],[1.0,\"#fde725\"]],\"type\":\"histogram2d\"}],\"histogram\":[{\"marker\":{\"line\":{\"color\":\"white\",\"width\":0.6}},\"type\":\"histogram\"}],\"mesh3d\":[{\"colorbar\":{\"outlinewidth\":1,\"tickcolor\":\"rgb(36,36,36)\",\"ticks\":\"outside\"},\"type\":\"mesh3d\"}],\"parcoords\":[{\"line\":{\"colorbar\":{\"outlinewidth\":1,\"tickcolor\":\"rgb(36,36,36)\",\"ticks\":\"outside\"}},\"type\":\"parcoords\"}],\"pie\":[{\"automargin\":true,\"type\":\"pie\"}],\"scatter3d\":[{\"line\":{\"colorbar\":{\"outlinewidth\":1,\"tickcolor\":\"rgb(36,36,36)\",\"ticks\":\"outside\"}},\"marker\":{\"colorbar\":{\"outlinewidth\":1,\"tickcolor\":\"rgb(36,36,36)\",\"ticks\":\"outside\"}},\"type\":\"scatter3d\"}],\"scattercarpet\":[{\"marker\":{\"colorbar\":{\"outlinewidth\":1,\"tickcolor\":\"rgb(36,36,36)\",\"ticks\":\"outside\"}},\"type\":\"scattercarpet\"}],\"scattergeo\":[{\"marker\":{\"colorbar\":{\"outlinewidth\":1,\"tickcolor\":\"rgb(36,36,36)\",\"ticks\":\"outside\"}},\"type\":\"scattergeo\"}],\"scattergl\":[{\"marker\":{\"colorbar\":{\"outlinewidth\":1,\"tickcolor\":\"rgb(36,36,36)\",\"ticks\":\"outside\"}},\"type\":\"scattergl\"}],\"scattermapbox\":[{\"marker\":{\"colorbar\":{\"outlinewidth\":1,\"tickcolor\":\"rgb(36,36,36)\",\"ticks\":\"outside\"}},\"type\":\"scattermapbox\"}],\"scatterpolargl\":[{\"marker\":{\"colorbar\":{\"outlinewidth\":1,\"tickcolor\":\"rgb(36,36,36)\",\"ticks\":\"outside\"}},\"type\":\"scatterpolargl\"}],\"scatterpolar\":[{\"marker\":{\"colorbar\":{\"outlinewidth\":1,\"tickcolor\":\"rgb(36,36,36)\",\"ticks\":\"outside\"}},\"type\":\"scatterpolar\"}],\"scatter\":[{\"fillpattern\":{\"fillmode\":\"overlay\",\"size\":10,\"solidity\":0.2},\"type\":\"scatter\"}],\"scatterternary\":[{\"marker\":{\"colorbar\":{\"outlinewidth\":1,\"tickcolor\":\"rgb(36,36,36)\",\"ticks\":\"outside\"}},\"type\":\"scatterternary\"}],\"surface\":[{\"colorbar\":{\"outlinewidth\":1,\"tickcolor\":\"rgb(36,36,36)\",\"ticks\":\"outside\"},\"colorscale\":[[0.0,\"#440154\"],[0.1111111111111111,\"#482878\"],[0.2222222222222222,\"#3e4989\"],[0.3333333333333333,\"#31688e\"],[0.4444444444444444,\"#26828e\"],[0.5555555555555556,\"#1f9e89\"],[0.6666666666666666,\"#35b779\"],[0.7777777777777778,\"#6ece58\"],[0.8888888888888888,\"#b5de2b\"],[1.0,\"#fde725\"]],\"type\":\"surface\"}],\"table\":[{\"cells\":{\"fill\":{\"color\":\"rgb(237,237,237)\"},\"line\":{\"color\":\"white\"}},\"header\":{\"fill\":{\"color\":\"rgb(217,217,217)\"},\"line\":{\"color\":\"white\"}},\"type\":\"table\"}]},\"layout\":{\"annotationdefaults\":{\"arrowhead\":0,\"arrowwidth\":1},\"autotypenumbers\":\"strict\",\"coloraxis\":{\"colorbar\":{\"outlinewidth\":1,\"tickcolor\":\"rgb(36,36,36)\",\"ticks\":\"outside\"}},\"colorscale\":{\"diverging\":[[0.0,\"rgb(103,0,31)\"],[0.1,\"rgb(178,24,43)\"],[0.2,\"rgb(214,96,77)\"],[0.3,\"rgb(244,165,130)\"],[0.4,\"rgb(253,219,199)\"],[0.5,\"rgb(247,247,247)\"],[0.6,\"rgb(209,229,240)\"],[0.7,\"rgb(146,197,222)\"],[0.8,\"rgb(67,147,195)\"],[0.9,\"rgb(33,102,172)\"],[1.0,\"rgb(5,48,97)\"]],\"sequential\":[[0.0,\"#440154\"],[0.1111111111111111,\"#482878\"],[0.2222222222222222,\"#3e4989\"],[0.3333333333333333,\"#31688e\"],[0.4444444444444444,\"#26828e\"],[0.5555555555555556,\"#1f9e89\"],[0.6666666666666666,\"#35b779\"],[0.7777777777777778,\"#6ece58\"],[0.8888888888888888,\"#b5de2b\"],[1.0,\"#fde725\"]],\"sequentialminus\":[[0.0,\"#440154\"],[0.1111111111111111,\"#482878\"],[0.2222222222222222,\"#3e4989\"],[0.3333333333333333,\"#31688e\"],[0.4444444444444444,\"#26828e\"],[0.5555555555555556,\"#1f9e89\"],[0.6666666666666666,\"#35b779\"],[0.7777777777777778,\"#6ece58\"],[0.8888888888888888,\"#b5de2b\"],[1.0,\"#fde725\"]]},\"colorway\":[\"#1F77B4\",\"#FF7F0E\",\"#2CA02C\",\"#D62728\",\"#9467BD\",\"#8C564B\",\"#E377C2\",\"#7F7F7F\",\"#BCBD22\",\"#17BECF\"],\"font\":{\"color\":\"rgb(36,36,36)\"},\"geo\":{\"bgcolor\":\"white\",\"lakecolor\":\"white\",\"landcolor\":\"white\",\"showlakes\":true,\"showland\":true,\"subunitcolor\":\"white\"},\"hoverlabel\":{\"align\":\"left\"},\"hovermode\":\"closest\",\"mapbox\":{\"style\":\"light\"},\"paper_bgcolor\":\"white\",\"plot_bgcolor\":\"white\",\"polar\":{\"angularaxis\":{\"gridcolor\":\"rgb(232,232,232)\",\"linecolor\":\"rgb(36,36,36)\",\"showgrid\":false,\"showline\":true,\"ticks\":\"outside\"},\"bgcolor\":\"white\",\"radialaxis\":{\"gridcolor\":\"rgb(232,232,232)\",\"linecolor\":\"rgb(36,36,36)\",\"showgrid\":false,\"showline\":true,\"ticks\":\"outside\"}},\"scene\":{\"xaxis\":{\"backgroundcolor\":\"white\",\"gridcolor\":\"rgb(232,232,232)\",\"gridwidth\":2,\"linecolor\":\"rgb(36,36,36)\",\"showbackground\":true,\"showgrid\":false,\"showline\":true,\"ticks\":\"outside\",\"zeroline\":false,\"zerolinecolor\":\"rgb(36,36,36)\"},\"yaxis\":{\"backgroundcolor\":\"white\",\"gridcolor\":\"rgb(232,232,232)\",\"gridwidth\":2,\"linecolor\":\"rgb(36,36,36)\",\"showbackground\":true,\"showgrid\":false,\"showline\":true,\"ticks\":\"outside\",\"zeroline\":false,\"zerolinecolor\":\"rgb(36,36,36)\"},\"zaxis\":{\"backgroundcolor\":\"white\",\"gridcolor\":\"rgb(232,232,232)\",\"gridwidth\":2,\"linecolor\":\"rgb(36,36,36)\",\"showbackground\":true,\"showgrid\":false,\"showline\":true,\"ticks\":\"outside\",\"zeroline\":false,\"zerolinecolor\":\"rgb(36,36,36)\"}},\"shapedefaults\":{\"fillcolor\":\"black\",\"line\":{\"width\":0},\"opacity\":0.3},\"ternary\":{\"aaxis\":{\"gridcolor\":\"rgb(232,232,232)\",\"linecolor\":\"rgb(36,36,36)\",\"showgrid\":false,\"showline\":true,\"ticks\":\"outside\"},\"baxis\":{\"gridcolor\":\"rgb(232,232,232)\",\"linecolor\":\"rgb(36,36,36)\",\"showgrid\":false,\"showline\":true,\"ticks\":\"outside\"},\"bgcolor\":\"white\",\"caxis\":{\"gridcolor\":\"rgb(232,232,232)\",\"linecolor\":\"rgb(36,36,36)\",\"showgrid\":false,\"showline\":true,\"ticks\":\"outside\"}},\"title\":{\"x\":0.05},\"xaxis\":{\"automargin\":true,\"gridcolor\":\"rgb(232,232,232)\",\"linecolor\":\"rgb(36,36,36)\",\"showgrid\":false,\"showline\":true,\"ticks\":\"outside\",\"title\":{\"standoff\":15},\"zeroline\":false,\"zerolinecolor\":\"rgb(36,36,36)\"},\"yaxis\":{\"automargin\":true,\"gridcolor\":\"rgb(232,232,232)\",\"linecolor\":\"rgb(36,36,36)\",\"showgrid\":false,\"showline\":true,\"ticks\":\"outside\",\"title\":{\"standoff\":15},\"zeroline\":false,\"zerolinecolor\":\"rgb(36,36,36)\"}}},\"xaxis\":{\"anchor\":\"y\",\"domain\":[0.0,0.30666666666666664],\"title\":{},\"range\":[0,11],\"nticks\":6},\"yaxis\":{\"anchor\":\"x\",\"domain\":[0.0,1.0],\"title\":{},\"range\":[0.3,0.85]},\"xaxis2\":{\"anchor\":\"y2\",\"domain\":[0.3466666666666666,0.6533333333333333],\"title\":{},\"range\":[0,11],\"nticks\":6},\"yaxis2\":{\"anchor\":\"x2\",\"domain\":[0.0,1.0],\"matches\":\"y\",\"showticklabels\":false,\"range\":[0.3,0.85]},\"xaxis3\":{\"anchor\":\"y3\",\"domain\":[0.6933333333333332,0.9999999999999999],\"title\":{},\"nticks\":6,\"tickfont\":{\"size\":16},\"tickangle\":0,\"tickformat\":\".1f\"},\"yaxis3\":{\"anchor\":\"x3\",\"domain\":[0.0,1.0],\"matches\":\"y\",\"showticklabels\":false,\"range\":[0.3,0.85]},\"annotations\":[{\"showarrow\":false,\"text\":\"\",\"x\":0.15333333333333332,\"xanchor\":\"center\",\"xref\":\"paper\",\"y\":1.0,\"yanchor\":\"bottom\",\"yref\":\"paper\"},{\"showarrow\":false,\"text\":\"\",\"x\":0.5,\"xanchor\":\"center\",\"xref\":\"paper\",\"y\":1.0,\"yanchor\":\"bottom\",\"yref\":\"paper\"},{\"showarrow\":false,\"text\":\"\",\"x\":0.8466666666666666,\"xanchor\":\"center\",\"xref\":\"paper\",\"y\":1.0,\"yanchor\":\"bottom\",\"yref\":\"paper\"},{\"font\":{\"size\":16},\"showarrow\":false,\"text\":\"2m\",\"x\":2.0,\"xanchor\":\"left\",\"xref\":\"x\",\"y\":0.5,\"yanchor\":\"middle\",\"yref\":\"y domain\"},{\"font\":{\"size\":16},\"showarrow\":false,\"text\":\"2m\",\"x\":2.0,\"xanchor\":\"left\",\"xref\":\"x2\",\"y\":0.5,\"yanchor\":\"middle\",\"yref\":\"y2 domain\"},{\"font\":{\"size\":16},\"showarrow\":false,\"text\":\"1.8&deg;\",\"x\":1.8,\"xanchor\":\"left\",\"xref\":\"x3\",\"y\":0.5,\"yanchor\":\"middle\",\"yref\":\"y3 domain\"}],\"legend\":{\"title\":{},\"tracegroupgap\":0,\"orientation\":\"h\",\"yanchor\":\"top\",\"y\":-0.2,\"xanchor\":\"right\",\"x\":1},\"margin\":{\"t\":10,\"l\":20,\"r\":20,\"b\":0},\"font\":{\"size\":16},\"title\":{},\"showlegend\":false,\"width\":700,\"height\":200,\"shapes\":[{\"line\":{\"color\":\"black\",\"dash\":\"dot\",\"width\":1},\"type\":\"line\",\"x0\":2,\"x1\":2,\"xref\":\"x\",\"y0\":0,\"y1\":1,\"yref\":\"y domain\"},{\"line\":{\"color\":\"black\",\"dash\":\"dot\",\"width\":1},\"type\":\"line\",\"x0\":2,\"x1\":2,\"xref\":\"x2\",\"y0\":0,\"y1\":1,\"yref\":\"y2 domain\"},{\"line\":{\"color\":\"black\",\"dash\":\"dot\",\"width\":1},\"type\":\"line\",\"x0\":1.8,\"x1\":1.8,\"xref\":\"x3\",\"y0\":0,\"y1\":1,\"yref\":\"y3 domain\"}]},                        {\"responsive\": true}                    ).then(function(){\n",
       "                            \n",
       "var gd = document.getElementById('30fc4fae-0e4e-42c6-b1cd-94d7ea6d90c7');\n",
       "var x = new MutationObserver(function (mutations, observer) {{\n",
       "        var display = window.getComputedStyle(gd).display;\n",
       "        if (!display || display === 'none') {{\n",
       "            console.log([gd, 'removed!']);\n",
       "            Plotly.purge(gd);\n",
       "            observer.disconnect();\n",
       "        }}\n",
       "}});\n",
       "\n",
       "// Listen for the removal of the full notebook cells\n",
       "var notebookContainer = gd.closest('#notebook-container');\n",
       "if (notebookContainer) {{\n",
       "    x.observe(notebookContainer, {childList: true});\n",
       "}}\n",
       "\n",
       "// Listen for the clearing of the current output cell\n",
       "var outputEl = gd.closest('.output');\n",
       "if (outputEl) {{\n",
       "    x.observe(outputEl, {childList: true});\n",
       "}}\n",
       "\n",
       "                        })                };                });            </script>        </div>"
      ]
     },
     "metadata": {},
     "output_type": "display_data"
    }
   ],
   "source": [
    "fig = px.line(df, x='jitter', y='trajectory_avg_miou',\n",
    "              color='label_set', facet_col='jitter_type', facet_col_spacing=0.04, markers=True, title=None,\n",
    "              color_discrete_map={\n",
    "                    'common': '#FF7912',\n",
    "                    'more_common': '#0091FF',\n",
    "                    'most_common': '#2E5C80'\n",
    "              },\n",
    "              symbol='label_set',\n",
    "              symbol_map={\n",
    "                    'common': 'circle',\n",
    "                    'more_common': 'circle',\n",
    "                    'most_common': 'x',\n",
    "              }\n",
    "              )\n",
    "fig.update_xaxes(matches=None)\n",
    "\n",
    "for anno in fig['layout']['annotations']:\n",
    "    anno['text'] = ''\n",
    "\n",
    "fig.update_xaxes(range=[0, 11], row=1, col=1)\n",
    "fig.update_xaxes(range=[0, 11], row=1, col=2)\n",
    "fig.update_yaxes(range=[0.3, 0.85])\n",
    "fig.update_xaxes(title_text=None, nticks=6)\n",
    "fig.update_xaxes(title_text=None, nticks=6, tickfont=dict(size=16), tickangle=0, tickformat=\".1f\", row=1, col=3)\n",
    "fig.update_layout(\n",
    "    title=None,\n",
    "    legend=dict(\n",
    "        title=None,\n",
    "        orientation=\"h\",\n",
    "        yanchor=\"top\",\n",
    "        y=-0.2,\n",
    "        xanchor=\"right\",\n",
    "        x=1,\n",
    "        # hide\n",
    "\n",
    "    ),\n",
    "    showlegend=False,\n",
    "    template='simple_white',\n",
    "    width=700,\n",
    "    height=200,\n",
    "    margin=dict(l=20, r=20, t=10, b=0),\n",
    "    font=dict(size=16)\n",
    ")\n",
    "fig.add_vline(x=2, line_width=1, line_dash=\"dot\", annotation_text=\"2m\", annotation_position='right', annotation_font=dict(size=16), line_color=\"black\", row=1, col=1)\n",
    "fig.add_vline(x=2, line_width=1, line_dash=\"dot\", annotation_text=\"2m\", annotation_position='right', annotation_font=dict(size=16), line_color=\"black\", row=1, col=2)\n",
    "fig.add_vline(x=1.8, line_width=1, line_dash=\"dot\", annotation_text=\"1.8&deg;\", annotation_font=dict(size=16), annotation_position='right', line_color=\"black\", row=1, col=3)\n",
    "fig.update_layout(yaxis_title=None)\n",
    "fig.update_layout(xaxis_title=None)\n",
    "fig.show()\n",
    "fig.write_image('jitter/jitter_miou.pdf')"
   ]
  },
  {
   "cell_type": "code",
   "execution_count": null,
   "metadata": {},
   "outputs": [],
   "source": []
  }
 ],
 "metadata": {
  "kernelspec": {
   "display_name": "autoseg",
   "language": "python",
   "name": "python3"
  },
  "language_info": {
   "codemirror_mode": {
    "name": "ipython",
    "version": 3
   },
   "file_extension": ".py",
   "mimetype": "text/x-python",
   "name": "python",
   "nbconvert_exporter": "python",
   "pygments_lexer": "ipython3",
   "version": "3.11.3"
  }
 },
 "nbformat": 4,
 "nbformat_minor": 2
}
