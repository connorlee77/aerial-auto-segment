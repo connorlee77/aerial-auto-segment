{
 "cells": [
  {
   "cell_type": "code",
   "execution_count": 1,
   "metadata": {},
   "outputs": [],
   "source": [
    "import os\n",
    "import rasterio\n",
    "import numpy as np"
   ]
  },
  {
   "cell_type": "code",
   "execution_count": 12,
   "metadata": {},
   "outputs": [],
   "source": [
    "path = '/media/hdd2/data/chesapeake_bay_lulc/outputs/preprocessed/epsg-32618/{}/chesapeake_bay_lc/1.0/converted_mosaic.tiff'\n",
    "data1 = rasterio.open(path.format('clinton'))\n",
    "data2 = rasterio.open(path.format('virginia_beach_creeds'))\n",
    "data3 = rasterio.open(path.format('virginia_beach_false_cape_landing'))"
   ]
  },
  {
   "cell_type": "code",
   "execution_count": 13,
   "metadata": {},
   "outputs": [],
   "source": [
    "x1 = data1.read()\n",
    "x2 = data2.read()\n",
    "x3 = data3.read()"
   ]
  },
  {
   "cell_type": "code",
   "execution_count": 18,
   "metadata": {},
   "outputs": [],
   "source": [
    "h1 = np.bincount(x1.flatten())\n",
    "h2 = np.bincount(x2.flatten())\n",
    "h3 = np.bincount(x3.flatten())\n",
    "\n",
    "h = h1 + h2 + h3"
   ]
  },
  {
   "cell_type": "code",
   "execution_count": 31,
   "metadata": {},
   "outputs": [],
   "source": [
    "weights = dict(zip(range(0, 7), h[:7]))"
   ]
  },
  {
   "cell_type": "code",
   "execution_count": 32,
   "metadata": {},
   "outputs": [
    {
     "data": {
      "text/plain": [
       "{0: 80043954,\n",
       " 1: 56837186,\n",
       " 2: 28038199,\n",
       " 3: 351242,\n",
       " 4: 16750433,\n",
       " 5: 2687843,\n",
       " 6: 2842181}"
      ]
     },
     "execution_count": 32,
     "metadata": {},
     "output_type": "execute_result"
    }
   ],
   "source": [
    "weights"
   ]
  },
  {
   "cell_type": "code",
   "execution_count": 33,
   "metadata": {},
   "outputs": [
    {
     "name": "stdout",
     "output_type": "stream",
     "text": [
      "0 1.0\n",
      "1 1.4083025503760864\n",
      "2 2.85481795745868\n",
      "3 227.88833339976426\n",
      "4 4.7786199914951455\n",
      "5 29.77999607864001\n",
      "6 28.16286295630011\n"
     ]
    }
   ],
   "source": [
    "weights_list = []\n",
    "for i, w in weights.items():\n",
    "    print(i, max(weights.values()) / w)\n",
    "    weights_list.append(max(weights.values()) / w)"
   ]
  },
  {
   "cell_type": "code",
   "execution_count": 37,
   "metadata": {},
   "outputs": [
    {
     "data": {
      "text/plain": [
       "'1.00, 1.41, 2.85, 227.89, 4.78, 29.78, 28.16'"
      ]
     },
     "execution_count": 37,
     "metadata": {},
     "output_type": "execute_result"
    }
   ],
   "source": [
    "', '.join(map(lambda x: '{:.2f}'.format(x), weights_list))"
   ]
  },
  {
   "cell_type": "code",
   "execution_count": null,
   "metadata": {},
   "outputs": [],
   "source": []
  }
 ],
 "metadata": {
  "kernelspec": {
   "display_name": "autoseg",
   "language": "python",
   "name": "python3"
  },
  "language_info": {
   "codemirror_mode": {
    "name": "ipython",
    "version": 3
   },
   "file_extension": ".py",
   "mimetype": "text/x-python",
   "name": "python",
   "nbconvert_exporter": "python",
   "pygments_lexer": "ipython3",
   "version": "3.11.3"
  }
 },
 "nbformat": 4,
 "nbformat_minor": 2
}
