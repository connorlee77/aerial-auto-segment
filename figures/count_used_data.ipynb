{
 "cells": [
  {
   "cell_type": "code",
   "execution_count": 6,
   "metadata": {},
   "outputs": [],
   "source": [
    "import os\n",
    "import glob\n",
    "\n",
    "traj = [\n",
    "    '/data/onr-thermal/2023-03-XX_Duck/ONR_2023-03-22-14-41-46/images/thermal/*',\n",
    "    '/data/onr-thermal/2023-03-XX_Duck/ONR_2023-03-21-19-55-11/images/thermal/*',\n",
    "    '/data/onr-thermal/2023-03-XX_Duck/ONR_2023-03-21-14-06-04/images/thermal/*',\n",
    "    '/data/onr-thermal/2023-03-XX_Duck/ONR_2023-03-21-09-59-39/images/thermal/*',\n",
    "\n",
    "    '/data/onr-thermal/2021-09-09-KentuckyRiver/*/images/thermal/*',\n",
    "    '/data/onr-thermal/2022-05-15_ColoradoRiver/flight2/images/thermal/*',\n",
    "    '/data/onr-thermal/2022-05-15_ColoradoRiver/flight3/images/thermal/*',\n",
    "    '/data/onr-thermal/2022-05-15_ColoradoRiver/flight4/images/thermal/*',\n",
    "    '/data/onr-thermal/2022-12-20_Castaic_Lake/flight4/images/thermal/*',\n",
    "    \n",
    "]"
   ]
  },
  {
   "cell_type": "code",
   "execution_count": 8,
   "metadata": {},
   "outputs": [],
   "source": [
    "total = 0\n",
    "for t in traj:\n",
    "    files = glob.glob(t)\n",
    "    total += len(files)"
   ]
  },
  {
   "cell_type": "code",
   "execution_count": 13,
   "metadata": {},
   "outputs": [
    {
     "name": "stdout",
     "output_type": "stream",
     "text": [
      "1178.0033333333333\n"
     ]
    }
   ],
   "source": [
    "print(total / (60*5))"
   ]
  },
  {
   "cell_type": "markdown",
   "metadata": {},
   "source": []
  },
  {
   "cell_type": "code",
   "execution_count": 25,
   "metadata": {},
   "outputs": [],
   "source": [
    "import rasterio\n",
    "with rasterio.open('/data/microsoft_planetary_computer/outputs/preprocessed/epsg-32616/kentucky_river/planet/1.0/mosaic.tiff') as src:\n",
    "    x = src.meta"
   ]
  },
  {
   "cell_type": "code",
   "execution_count": 26,
   "metadata": {},
   "outputs": [
    {
     "name": "stdout",
     "output_type": "stream",
     "text": [
      "{'driver': 'GTiff', 'dtype': 'uint16', 'nodata': 0.0, 'width': 7119, 'height': 6321, 'count': 4, 'crs': CRS.from_epsg(32616), 'transform': Affine(1.0, 0.0, 697500.0,\n",
      "       0.0, -1.0, 4191633.0)}\n"
     ]
    }
   ],
   "source": [
    "print(x)"
   ]
  },
  {
   "cell_type": "code",
   "execution_count": 28,
   "metadata": {},
   "outputs": [
    {
     "data": {
      "text/plain": [
       "array([1.00347222, 1.025     , 0.98653199, 1.00253165, 1.00631579,\n",
       "       0.98511166])"
      ]
     },
     "execution_count": 28,
     "metadata": {},
     "output_type": "execute_result"
    }
   ],
   "source": [
    "import numpy as np\n",
    "x = np.array([578, 574, 879, 396, 478, 794])\n",
    "y = np.array([ 576, 560, 891, 395, 475, 806])\n",
    "x/y\n"
   ]
  },
  {
   "cell_type": "code",
   "execution_count": null,
   "metadata": {},
   "outputs": [],
   "source": []
  }
 ],
 "metadata": {
  "kernelspec": {
   "display_name": "autoseg",
   "language": "python",
   "name": "python3"
  },
  "language_info": {
   "codemirror_mode": {
    "name": "ipython",
    "version": 3
   },
   "file_extension": ".py",
   "mimetype": "text/x-python",
   "name": "python",
   "nbconvert_exporter": "python",
   "pygments_lexer": "ipython3",
   "version": "3.11.3"
  }
 },
 "nbformat": 4,
 "nbformat_minor": 2
}
