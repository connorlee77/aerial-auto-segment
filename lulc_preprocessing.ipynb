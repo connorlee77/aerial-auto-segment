{
 "cells": [
  {
   "cell_type": "code",
   "execution_count": 1,
   "metadata": {},
   "outputs": [],
   "source": [
    "import os\n",
    "import tqdm\n",
    "\n",
    "import rasterio\n",
    "import rasterio.plot\n",
    "import rasterio.merge\n",
    "import rasterio.mask\n",
    "import shapely\n",
    "\n",
    "# from reproject_raster import reproject_raster\n",
    "from microsoft_planetarycomputer_download.utils import read_geojson\n",
    "from utils.rasterio_utils import mask_raster_by_shapely, reproject_raster_v2"
   ]
  },
  {
   "cell_type": "code",
   "execution_count": 2,
   "metadata": {},
   "outputs": [],
   "source": [
    "DATA_PATH = '/data/microsoft_planetary_computer'\n",
    "PLACE_NAME = 'castaic_lake'\n",
    "FORCE_REPROJECT = True\n",
    "LABEL_RASTER_PATH = '/data/microsoft_planetary_computer/label_mosaic_v2.tiff'"
   ]
  },
  {
   "cell_type": "code",
   "execution_count": 3,
   "metadata": {},
   "outputs": [],
   "source": [
    "GEOJSON_FILEPATH = 'geojsons/{}.geojson'.format(PLACE_NAME)\n",
    "\n",
    "DEM_FILEPATH = os.path.join(DATA_PATH, 'dem', PLACE_NAME, 'mosaic', 'mosaic.tiff')\n",
    "DEM_1M_FILEPATH = os.path.join(DATA_PATH, 'dem', PLACE_NAME, 'mosaic_1m', 'mosaic.tiff')\n",
    "\n",
    "DSM_FILEPATH = os.path.join(DATA_PATH, 'dsm', PLACE_NAME, 'mosaic', 'mosaic.tiff')\n",
    "NAIP_FILEPATH = os.path.join(DATA_PATH, 'naip', PLACE_NAME, 'mosaic', 'mosaic.tiff')\n",
    "\n",
    "# Create output folders\n",
    "OUTPUT_FOLDER = os.path.join(DATA_PATH, 'outputs', 'preprocessed')\n",
    "os.makedirs(OUTPUT_FOLDER, exist_ok=True)"
   ]
  },
  {
   "cell_type": "code",
   "execution_count": 4,
   "metadata": {},
   "outputs": [],
   "source": [
    "# Read raster data (dynamic world labels)\n",
    "dw_labels = rasterio.open(LABEL_RASTER_PATH)"
   ]
  },
  {
   "cell_type": "code",
   "execution_count": 5,
   "metadata": {},
   "outputs": [
    {
     "name": "stdout",
     "output_type": "stream",
     "text": [
      "Reprojecting and resampling raster...\n",
      "Input: /data/microsoft_planetary_computer/naip/castaic_lake/mosaic/mosaic.tiff (35940, 39470) EPSG:26911 metre (0.6, 0.6)\n",
      "Output: /data/microsoft_planetary_computer/outputs/preprocessed/epsg-32611/castaic_lake/naip/0.6/mosaic.tiff (35940, 39470) EPSG:32611 metre (0.6, 0.6)\n",
      "Masking (cropping) raster...\n",
      "Applying crop mask to raster...\n",
      "Input: /data/microsoft_planetary_computer/outputs/preprocessed/epsg-32611/castaic_lake/naip/0.6/mosaic.tiff (35940, 39470) EPSG:32611 metre (0.6, 0.6)\n",
      "Output: /data/microsoft_planetary_computer/outputs/preprocessed/epsg-32611/castaic_lake/naip/0.6/mosaic.tiff (27021, 29349) EPSG:32611 metre (0.6, 0.6)\n",
      "Reprojecting and resampling raster...\n"
     ]
    }
   ],
   "source": [
    "# outputs/preprocessed/{epsg-xxxxx}/{place_name}/naip/{GSD}/mosaic.tiff\n",
    "# outputs/preprocessed/{epsg-xxxxx}/{place_name}/dem/{GSD}/mosaic.tiff\n",
    "# outputs/preprocessed/{epsg-xxxxx}/{place_name}/dsm/{GSD}/mosaic.tiff\n",
    "# outputs/preprocessed/{epsg-xxxxx}/{place_name}/dynamicworld/{GSD}/mosaic.tiff\n",
    "\n",
    "# Reproject naip/dsm/dem according to DynamicWorld label\n",
    "for spatial_res in [0.6, 2.0, 10.0]: # meter / pixel\n",
    "    target_polygon = shapely.geometry.box(*dw_labels.bounds)\n",
    "    target_crs = dw_labels.crs\n",
    "    epsg_code = target_crs.to_epsg()\n",
    "\n",
    "    res_folder = '{:.1f}'.format(spatial_res) if spatial_res is not None else 'original_resolution'\n",
    "    naip_reproj_path = os.path.join(OUTPUT_FOLDER, 'epsg-{}'.format(epsg_code), PLACE_NAME, 'naip', res_folder, 'mosaic.tiff')\n",
    "    dem_reproj_path = os.path.join(OUTPUT_FOLDER, 'epsg-{}'.format(epsg_code), PLACE_NAME, 'dem', res_folder, 'mosaic.tiff')\n",
    "    dsm_reproj_path = os.path.join(OUTPUT_FOLDER, 'epsg-{}'.format(epsg_code), PLACE_NAME, 'dsm', res_folder, 'mosaic.tiff')\n",
    "    dw_reproj_path = os.path.join(OUTPUT_FOLDER, 'epsg-{}'.format(epsg_code), PLACE_NAME, 'dynamicworld', res_folder, 'mosaic.tiff')\n",
    "\n",
    "    path_dict = {\n",
    "        'naip': {'original' : NAIP_FILEPATH, 'reprojected': naip_reproj_path, 'interpolation' : rasterio.enums.Resampling.cubic},\n",
    "        'dem': {'original' : DEM_FILEPATH, 'reprojected': dem_reproj_path, 'interpolation' : rasterio.enums.Resampling.bilinear},\n",
    "        'dem_1m': {'original' : DEM_1M_FILEPATH, 'reprojected': dem_reproj_path, 'interpolation' : rasterio.enums.Resampling.bilinear},\n",
    "        'dsm': {'original' : DSM_FILEPATH, 'reprojected': dsm_reproj_path, 'interpolation' : rasterio.enums.Resampling.cubic},\n",
    "        'dw': {'original' : LABEL_RASTER_PATH, 'reprojected': dw_reproj_path, 'interpolation' : rasterio.enums.Resampling.nearest},\n",
    "    }\n",
    "\n",
    "    os.makedirs(os.path.dirname(naip_reproj_path), exist_ok=True)\n",
    "    os.makedirs(os.path.dirname(dem_reproj_path), exist_ok=True)\n",
    "    os.makedirs(os.path.dirname(dsm_reproj_path), exist_ok=True)\n",
    "    os.makedirs(os.path.dirname(dw_reproj_path), exist_ok=True)\n",
    "\n",
    "    for name, obj in path_dict.items():\n",
    "        reprojected = obj['reprojected']\n",
    "        original = obj['original']\n",
    "        if not os.path.exists(reprojected) or FORCE_REPROJECT:\n",
    "            reproject_raster_v2(original, reprojected, dst_crs=target_crs, spatial_res=spatial_res, interpolation=obj['interpolation'])\n",
    "            mask_raster_by_shapely(reprojected, reprojected, target_polygon)"
   ]
  },
  {
   "cell_type": "code",
   "execution_count": null,
   "metadata": {},
   "outputs": [],
   "source": []
  }
 ],
 "metadata": {
  "kernelspec": {
   "display_name": "autoseg",
   "language": "python",
   "name": "python3"
  },
  "language_info": {
   "codemirror_mode": {
    "name": "ipython",
    "version": 3
   },
   "file_extension": ".py",
   "mimetype": "text/x-python",
   "name": "python",
   "nbconvert_exporter": "python",
   "pygments_lexer": "ipython3",
   "version": "3.11.3"
  },
  "orig_nbformat": 4
 },
 "nbformat": 4,
 "nbformat_minor": 2
}
