{
 "cells": [
  {
   "cell_type": "code",
   "execution_count": 1,
   "metadata": {},
   "outputs": [],
   "source": [
    "import os\n",
    "import numpy as np\n",
    "import rasterio\n",
    "import rasterio.plot\n",
    "\n",
    "from shapely.geometry import shape\n",
    "from shapely.geometry.polygon import Polygon\n",
    "\n",
    "from microsoft_planetarycomputer_download.utils import read_geojson\n",
    "from utils.rasterio_utils import reproject_raster, mask_raster_by_shapely, save_raster_preview_as_png"
   ]
  },
  {
   "cell_type": "code",
   "execution_count": 2,
   "metadata": {},
   "outputs": [],
   "source": [
    "def plot_and_info(path):\n",
    "    with rasterio.open(path, 'r') as x:\n",
    "        print(x.res, x.crs, x.nodata, x.crs.linear_units)\n",
    "        rasterio.plot.show(x)"
   ]
  },
  {
   "cell_type": "code",
   "execution_count": 3,
   "metadata": {},
   "outputs": [],
   "source": [
    "# plot_and_info('/data/chesapeake_bay_lulc/raw_tifs/lc/clin_42035_landcover_2013.tif')\n",
    "# plot_and_info('/data/chesapeake_bay_lulc/chesapeake_data/de_1m_2013_extended-train_tiles/m_3807513_nw_18_1_naip-old.tif')\n",
    "\n",
    "# plot_and_info('/data/chesapeake_bay_lulc/chesapeake_data/de_1m_2013_extended-train_tiles/m_3807523_ne_18_1_lc.tif')\n",
    "# plot_and_info('/data/chesapeake_bay_lulc/chesapeake_data/de_1m_2013_extended-train_tiles/m_3807523_ne_18_1_nlcd.tif')\n",
    "\n",
    "# plot_and_info('/data/chesapeake_bay_lulc/chesapeake_data/de_1m_2013_extended-train_tiles/m_3807523_sw_18_1_landsat-leaf-on.tif')\n"
   ]
  },
  {
   "cell_type": "code",
   "execution_count": 6,
   "metadata": {},
   "outputs": [],
   "source": [
    "data_dir = '/data/chesapeake_bay_lulc/'\n",
    "\n",
    "# replace for virginia_beach geojsons\n",
    "geojson_filepath = '/home/connor/repos/aerial-auto-segment/geojsons/clinton.geojson'\n",
    "# replace for virginia_beach label rasters\n",
    "label_raster = '/data/chesapeake_bay_lulc/raw_tifs/lc/clin_42035_landcover_2017.tif'\n",
    "\n",
    "save_dir = os.path.join(data_dir, 'chesapeake_bay_lc', os.path.basename(geojson_filepath).split('.')[0], 'mosaic')\n",
    "bounds = Polygon(shape(read_geojson(geojson_filepath)['geometry']))\n",
    "\n",
    "reprojected_label_raster = label_raster.replace('.tif', '_epsg4326.tif')\n",
    "final_mosaic_path = os.path.join(save_dir, 'mosaic.tiff')\n",
    "\n",
    "with rasterio.open(label_raster, 'r') as x:\n",
    "    original_crs = x.crs\n",
    "\n",
    "os.makedirs(save_dir, exist_ok=True)\n",
    "reproject_raster(label_raster, reprojected_label_raster, 'EPSG:4326')\n",
    "mask_raster_by_shapely(reprojected_label_raster, final_mosaic_path, bounds)\n",
    "reproject_raster(final_mosaic_path, final_mosaic_path, original_crs)\n",
    "save_raster_preview_as_png(final_mosaic_path, chesapeake_bay=True)"
   ]
  }
 ],
 "metadata": {
  "kernelspec": {
   "display_name": "autoseg",
   "language": "python",
   "name": "python3"
  },
  "language_info": {
   "codemirror_mode": {
    "name": "ipython",
    "version": 3
   },
   "file_extension": ".py",
   "mimetype": "text/x-python",
   "name": "python",
   "nbconvert_exporter": "python",
   "pygments_lexer": "ipython3",
   "version": "3.11.3"
  }
 },
 "nbformat": 4,
 "nbformat_minor": 2
}
